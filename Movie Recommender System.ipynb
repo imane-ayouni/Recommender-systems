{
 "cells": [
  {
   "cell_type": "markdown",
   "id": "4ef9c816",
   "metadata": {},
   "source": [
    "# Movie Recommender System"
   ]
  },
  {
   "cell_type": "markdown",
   "id": "0e05c37f",
   "metadata": {},
   "source": [
    "## Overview"
   ]
  },
  {
   "cell_type": "markdown",
   "id": "4fdc06e0",
   "metadata": {},
   "source": [
    "## Objectives"
   ]
  },
  {
   "cell_type": "markdown",
   "id": "3a31e63f",
   "metadata": {},
   "source": [
    "## Summary"
   ]
  },
  {
   "cell_type": "markdown",
   "id": "b2721a01",
   "metadata": {},
   "source": [
    "### Importing Libraries"
   ]
  },
  {
   "cell_type": "code",
   "execution_count": 213,
   "id": "d140bde1",
   "metadata": {},
   "outputs": [],
   "source": [
    "import pandas as pd\n",
    "import numpy as np\n",
    "import seaborn as sns\n",
    "import matplotlib.pyplot as plt"
   ]
  },
  {
   "cell_type": "markdown",
   "id": "4d82f6fc",
   "metadata": {},
   "source": [
    "### The Datasets"
   ]
  },
  {
   "cell_type": "code",
   "execution_count": 214,
   "id": "04a1ffa7",
   "metadata": {},
   "outputs": [
    {
     "name": "stdout",
     "output_type": "stream",
     "text": [
      "<class 'pandas.core.frame.DataFrame'>\n",
      "RangeIndex: 25000095 entries, 0 to 25000094\n",
      "Data columns (total 4 columns):\n",
      " #   Column     Dtype  \n",
      "---  ------     -----  \n",
      " 0   userId     int64  \n",
      " 1   movieId    int64  \n",
      " 2   rating     float64\n",
      " 3   timestamp  int64  \n",
      "dtypes: float64(1), int64(3)\n",
      "memory usage: 762.9 MB\n"
     ]
    }
   ],
   "source": [
    "ratings = pd.read_csv(r'C:\\Users\\imane\\OneDrive\\Desktop\\movie-recommendation\\moiveLens\\ratings.csv', sep =\",\")\n",
    "ratings.info()"
   ]
  },
  {
   "cell_type": "code",
   "execution_count": 215,
   "id": "f3b5cbfd",
   "metadata": {},
   "outputs": [
    {
     "data": {
      "text/html": [
       "<div>\n",
       "<style scoped>\n",
       "    .dataframe tbody tr th:only-of-type {\n",
       "        vertical-align: middle;\n",
       "    }\n",
       "\n",
       "    .dataframe tbody tr th {\n",
       "        vertical-align: top;\n",
       "    }\n",
       "\n",
       "    .dataframe thead th {\n",
       "        text-align: right;\n",
       "    }\n",
       "</style>\n",
       "<table border=\"1\" class=\"dataframe\">\n",
       "  <thead>\n",
       "    <tr style=\"text-align: right;\">\n",
       "      <th></th>\n",
       "      <th>userId</th>\n",
       "      <th>movieId</th>\n",
       "      <th>rating</th>\n",
       "      <th>timestamp</th>\n",
       "    </tr>\n",
       "  </thead>\n",
       "  <tbody>\n",
       "    <tr>\n",
       "      <th>0</th>\n",
       "      <td>1</td>\n",
       "      <td>296</td>\n",
       "      <td>5.0</td>\n",
       "      <td>1147880044</td>\n",
       "    </tr>\n",
       "    <tr>\n",
       "      <th>1</th>\n",
       "      <td>1</td>\n",
       "      <td>306</td>\n",
       "      <td>3.5</td>\n",
       "      <td>1147868817</td>\n",
       "    </tr>\n",
       "    <tr>\n",
       "      <th>2</th>\n",
       "      <td>1</td>\n",
       "      <td>307</td>\n",
       "      <td>5.0</td>\n",
       "      <td>1147868828</td>\n",
       "    </tr>\n",
       "    <tr>\n",
       "      <th>3</th>\n",
       "      <td>1</td>\n",
       "      <td>665</td>\n",
       "      <td>5.0</td>\n",
       "      <td>1147878820</td>\n",
       "    </tr>\n",
       "    <tr>\n",
       "      <th>4</th>\n",
       "      <td>1</td>\n",
       "      <td>899</td>\n",
       "      <td>3.5</td>\n",
       "      <td>1147868510</td>\n",
       "    </tr>\n",
       "  </tbody>\n",
       "</table>\n",
       "</div>"
      ],
      "text/plain": [
       "   userId  movieId  rating   timestamp\n",
       "0       1      296     5.0  1147880044\n",
       "1       1      306     3.5  1147868817\n",
       "2       1      307     5.0  1147868828\n",
       "3       1      665     5.0  1147878820\n",
       "4       1      899     3.5  1147868510"
      ]
     },
     "execution_count": 215,
     "metadata": {},
     "output_type": "execute_result"
    }
   ],
   "source": [
    "ratings.head()"
   ]
  },
  {
   "cell_type": "code",
   "execution_count": 216,
   "id": "a76ed5b0",
   "metadata": {},
   "outputs": [
    {
     "data": {
      "text/plain": [
       "userId       0\n",
       "movieId      0\n",
       "rating       0\n",
       "timestamp    0\n",
       "dtype: int64"
      ]
     },
     "execution_count": 216,
     "metadata": {},
     "output_type": "execute_result"
    }
   ],
   "source": [
    "ratings.isnull().sum()"
   ]
  },
  {
   "cell_type": "code",
   "execution_count": 217,
   "id": "bb3af675",
   "metadata": {},
   "outputs": [
    {
     "name": "stdout",
     "output_type": "stream",
     "text": [
      "<class 'pandas.core.frame.DataFrame'>\n",
      "RangeIndex: 62423 entries, 0 to 62422\n",
      "Data columns (total 3 columns):\n",
      " #   Column   Non-Null Count  Dtype \n",
      "---  ------   --------------  ----- \n",
      " 0   movieId  62423 non-null  int64 \n",
      " 1   title    62423 non-null  object\n",
      " 2   genres   62423 non-null  object\n",
      "dtypes: int64(1), object(2)\n",
      "memory usage: 1.4+ MB\n"
     ]
    }
   ],
   "source": [
    "movies = pd.read_csv(r'C:\\Users\\imane\\OneDrive\\Desktop\\movie-recommendation\\moiveLens\\movies.csv', sep =\",\")\n",
    "movies.info()"
   ]
  },
  {
   "cell_type": "code",
   "execution_count": 218,
   "id": "d0263137",
   "metadata": {},
   "outputs": [
    {
     "data": {
      "text/html": [
       "<div>\n",
       "<style scoped>\n",
       "    .dataframe tbody tr th:only-of-type {\n",
       "        vertical-align: middle;\n",
       "    }\n",
       "\n",
       "    .dataframe tbody tr th {\n",
       "        vertical-align: top;\n",
       "    }\n",
       "\n",
       "    .dataframe thead th {\n",
       "        text-align: right;\n",
       "    }\n",
       "</style>\n",
       "<table border=\"1\" class=\"dataframe\">\n",
       "  <thead>\n",
       "    <tr style=\"text-align: right;\">\n",
       "      <th></th>\n",
       "      <th>movieId</th>\n",
       "      <th>title</th>\n",
       "      <th>genres</th>\n",
       "    </tr>\n",
       "  </thead>\n",
       "  <tbody>\n",
       "    <tr>\n",
       "      <th>0</th>\n",
       "      <td>1</td>\n",
       "      <td>Toy Story (1995)</td>\n",
       "      <td>Adventure|Animation|Children|Comedy|Fantasy</td>\n",
       "    </tr>\n",
       "    <tr>\n",
       "      <th>1</th>\n",
       "      <td>2</td>\n",
       "      <td>Jumanji (1995)</td>\n",
       "      <td>Adventure|Children|Fantasy</td>\n",
       "    </tr>\n",
       "    <tr>\n",
       "      <th>2</th>\n",
       "      <td>3</td>\n",
       "      <td>Grumpier Old Men (1995)</td>\n",
       "      <td>Comedy|Romance</td>\n",
       "    </tr>\n",
       "    <tr>\n",
       "      <th>3</th>\n",
       "      <td>4</td>\n",
       "      <td>Waiting to Exhale (1995)</td>\n",
       "      <td>Comedy|Drama|Romance</td>\n",
       "    </tr>\n",
       "    <tr>\n",
       "      <th>4</th>\n",
       "      <td>5</td>\n",
       "      <td>Father of the Bride Part II (1995)</td>\n",
       "      <td>Comedy</td>\n",
       "    </tr>\n",
       "  </tbody>\n",
       "</table>\n",
       "</div>"
      ],
      "text/plain": [
       "   movieId                               title  \\\n",
       "0        1                    Toy Story (1995)   \n",
       "1        2                      Jumanji (1995)   \n",
       "2        3             Grumpier Old Men (1995)   \n",
       "3        4            Waiting to Exhale (1995)   \n",
       "4        5  Father of the Bride Part II (1995)   \n",
       "\n",
       "                                        genres  \n",
       "0  Adventure|Animation|Children|Comedy|Fantasy  \n",
       "1                   Adventure|Children|Fantasy  \n",
       "2                               Comedy|Romance  \n",
       "3                         Comedy|Drama|Romance  \n",
       "4                                       Comedy  "
      ]
     },
     "execution_count": 218,
     "metadata": {},
     "output_type": "execute_result"
    }
   ],
   "source": [
    "movies.head()"
   ]
  },
  {
   "cell_type": "code",
   "execution_count": 219,
   "id": "b83d482e",
   "metadata": {},
   "outputs": [
    {
     "data": {
      "text/plain": [
       "movieId    0\n",
       "title      0\n",
       "genres     0\n",
       "dtype: int64"
      ]
     },
     "execution_count": 219,
     "metadata": {},
     "output_type": "execute_result"
    }
   ],
   "source": [
    "movies.isnull().sum()"
   ]
  },
  {
   "cell_type": "code",
   "execution_count": 220,
   "id": "44203aa4",
   "metadata": {},
   "outputs": [],
   "source": [
    "# Removing the time stamp\n",
    "ratings = ratings.drop([\"timestamp\"], axis = 1)"
   ]
  },
  {
   "cell_type": "code",
   "execution_count": 221,
   "id": "c41a5ea0",
   "metadata": {},
   "outputs": [
    {
     "data": {
      "text/html": [
       "<div>\n",
       "<style scoped>\n",
       "    .dataframe tbody tr th:only-of-type {\n",
       "        vertical-align: middle;\n",
       "    }\n",
       "\n",
       "    .dataframe tbody tr th {\n",
       "        vertical-align: top;\n",
       "    }\n",
       "\n",
       "    .dataframe thead th {\n",
       "        text-align: right;\n",
       "    }\n",
       "</style>\n",
       "<table border=\"1\" class=\"dataframe\">\n",
       "  <thead>\n",
       "    <tr style=\"text-align: right;\">\n",
       "      <th></th>\n",
       "      <th>movieId</th>\n",
       "      <th>title</th>\n",
       "      <th>genres</th>\n",
       "      <th>userId</th>\n",
       "      <th>rating</th>\n",
       "    </tr>\n",
       "  </thead>\n",
       "  <tbody>\n",
       "    <tr>\n",
       "      <th>0</th>\n",
       "      <td>1</td>\n",
       "      <td>Toy Story (1995)</td>\n",
       "      <td>Adventure|Animation|Children|Comedy|Fantasy</td>\n",
       "      <td>2</td>\n",
       "      <td>3.5</td>\n",
       "    </tr>\n",
       "    <tr>\n",
       "      <th>1</th>\n",
       "      <td>1</td>\n",
       "      <td>Toy Story (1995)</td>\n",
       "      <td>Adventure|Animation|Children|Comedy|Fantasy</td>\n",
       "      <td>3</td>\n",
       "      <td>4.0</td>\n",
       "    </tr>\n",
       "    <tr>\n",
       "      <th>2</th>\n",
       "      <td>1</td>\n",
       "      <td>Toy Story (1995)</td>\n",
       "      <td>Adventure|Animation|Children|Comedy|Fantasy</td>\n",
       "      <td>4</td>\n",
       "      <td>3.0</td>\n",
       "    </tr>\n",
       "    <tr>\n",
       "      <th>3</th>\n",
       "      <td>1</td>\n",
       "      <td>Toy Story (1995)</td>\n",
       "      <td>Adventure|Animation|Children|Comedy|Fantasy</td>\n",
       "      <td>5</td>\n",
       "      <td>4.0</td>\n",
       "    </tr>\n",
       "    <tr>\n",
       "      <th>4</th>\n",
       "      <td>1</td>\n",
       "      <td>Toy Story (1995)</td>\n",
       "      <td>Adventure|Animation|Children|Comedy|Fantasy</td>\n",
       "      <td>8</td>\n",
       "      <td>4.0</td>\n",
       "    </tr>\n",
       "  </tbody>\n",
       "</table>\n",
       "</div>"
      ],
      "text/plain": [
       "   movieId             title                                       genres  \\\n",
       "0        1  Toy Story (1995)  Adventure|Animation|Children|Comedy|Fantasy   \n",
       "1        1  Toy Story (1995)  Adventure|Animation|Children|Comedy|Fantasy   \n",
       "2        1  Toy Story (1995)  Adventure|Animation|Children|Comedy|Fantasy   \n",
       "3        1  Toy Story (1995)  Adventure|Animation|Children|Comedy|Fantasy   \n",
       "4        1  Toy Story (1995)  Adventure|Animation|Children|Comedy|Fantasy   \n",
       "\n",
       "   userId  rating  \n",
       "0       2     3.5  \n",
       "1       3     4.0  \n",
       "2       4     3.0  \n",
       "3       5     4.0  \n",
       "4       8     4.0  "
      ]
     },
     "execution_count": 221,
     "metadata": {},
     "output_type": "execute_result"
    }
   ],
   "source": [
    "# Merge the datasets on movie id\n",
    "movie_ratings = movies.merge(ratings, on =\"movieId\")\n",
    "movie_ratings.head()"
   ]
  },
  {
   "cell_type": "code",
   "execution_count": 222,
   "id": "3de153c1",
   "metadata": {},
   "outputs": [
    {
     "data": {
      "text/html": [
       "<div>\n",
       "<style scoped>\n",
       "    .dataframe tbody tr th:only-of-type {\n",
       "        vertical-align: middle;\n",
       "    }\n",
       "\n",
       "    .dataframe tbody tr th {\n",
       "        vertical-align: top;\n",
       "    }\n",
       "\n",
       "    .dataframe thead th {\n",
       "        text-align: right;\n",
       "    }\n",
       "</style>\n",
       "<table border=\"1\" class=\"dataframe\">\n",
       "  <thead>\n",
       "    <tr style=\"text-align: right;\">\n",
       "      <th></th>\n",
       "      <th>title</th>\n",
       "      <th>average rating</th>\n",
       "    </tr>\n",
       "  </thead>\n",
       "  <tbody>\n",
       "    <tr>\n",
       "      <th>0</th>\n",
       "      <td>\"BLOW THE NIGHT!\" Let's Spend the Night Togeth...</td>\n",
       "      <td>3.000000</td>\n",
       "    </tr>\n",
       "    <tr>\n",
       "      <th>1</th>\n",
       "      <td>\"Great Performances\" Cats (1998)</td>\n",
       "      <td>2.896648</td>\n",
       "    </tr>\n",
       "    <tr>\n",
       "      <th>2</th>\n",
       "      <td>#1 Cheerleader Camp (2010)</td>\n",
       "      <td>2.111111</td>\n",
       "    </tr>\n",
       "    <tr>\n",
       "      <th>3</th>\n",
       "      <td>#Captured (2017)</td>\n",
       "      <td>3.750000</td>\n",
       "    </tr>\n",
       "    <tr>\n",
       "      <th>4</th>\n",
       "      <td>#Female Pleasure (2018)</td>\n",
       "      <td>3.666667</td>\n",
       "    </tr>\n",
       "  </tbody>\n",
       "</table>\n",
       "</div>"
      ],
      "text/plain": [
       "                                               title  average rating\n",
       "0  \"BLOW THE NIGHT!\" Let's Spend the Night Togeth...        3.000000\n",
       "1                   \"Great Performances\" Cats (1998)        2.896648\n",
       "2                         #1 Cheerleader Camp (2010)        2.111111\n",
       "3                                   #Captured (2017)        3.750000\n",
       "4                            #Female Pleasure (2018)        3.666667"
      ]
     },
     "execution_count": 222,
     "metadata": {},
     "output_type": "execute_result"
    }
   ],
   "source": [
    "# Adding columns : average rating and number of ratings per movie\n",
    "movie_av_ratings = movie_ratings.groupby(\"title\")[\"rating\"].mean().reset_index()\n",
    "movie_av_ratings = movie_av_ratings.rename(columns={\"rating\":\"average rating\"})\n",
    "movie_av_ratings.head()"
   ]
  },
  {
   "cell_type": "code",
   "execution_count": 223,
   "id": "43a9e9f2",
   "metadata": {},
   "outputs": [
    {
     "data": {
      "text/html": [
       "<div>\n",
       "<style scoped>\n",
       "    .dataframe tbody tr th:only-of-type {\n",
       "        vertical-align: middle;\n",
       "    }\n",
       "\n",
       "    .dataframe tbody tr th {\n",
       "        vertical-align: top;\n",
       "    }\n",
       "\n",
       "    .dataframe thead th {\n",
       "        text-align: right;\n",
       "    }\n",
       "</style>\n",
       "<table border=\"1\" class=\"dataframe\">\n",
       "  <thead>\n",
       "    <tr style=\"text-align: right;\">\n",
       "      <th></th>\n",
       "      <th>title</th>\n",
       "      <th>rating count</th>\n",
       "    </tr>\n",
       "  </thead>\n",
       "  <tbody>\n",
       "    <tr>\n",
       "      <th>0</th>\n",
       "      <td>\"BLOW THE NIGHT!\" Let's Spend the Night Togeth...</td>\n",
       "      <td>1</td>\n",
       "    </tr>\n",
       "    <tr>\n",
       "      <th>1</th>\n",
       "      <td>\"Great Performances\" Cats (1998)</td>\n",
       "      <td>179</td>\n",
       "    </tr>\n",
       "    <tr>\n",
       "      <th>2</th>\n",
       "      <td>#1 Cheerleader Camp (2010)</td>\n",
       "      <td>9</td>\n",
       "    </tr>\n",
       "    <tr>\n",
       "      <th>3</th>\n",
       "      <td>#Captured (2017)</td>\n",
       "      <td>2</td>\n",
       "    </tr>\n",
       "    <tr>\n",
       "      <th>4</th>\n",
       "      <td>#Female Pleasure (2018)</td>\n",
       "      <td>3</td>\n",
       "    </tr>\n",
       "  </tbody>\n",
       "</table>\n",
       "</div>"
      ],
      "text/plain": [
       "                                               title  rating count\n",
       "0  \"BLOW THE NIGHT!\" Let's Spend the Night Togeth...             1\n",
       "1                   \"Great Performances\" Cats (1998)           179\n",
       "2                         #1 Cheerleader Camp (2010)             9\n",
       "3                                   #Captured (2017)             2\n",
       "4                            #Female Pleasure (2018)             3"
      ]
     },
     "execution_count": 223,
     "metadata": {},
     "output_type": "execute_result"
    }
   ],
   "source": [
    "movie_count_ratings = movie_ratings.groupby(\"title\")[\"rating\"].count().reset_index()\n",
    "movie_count_ratings = movie_count_ratings.rename(columns={\"rating\": \"rating count\"})\n",
    "movie_count_ratings.head()"
   ]
  },
  {
   "cell_type": "code",
   "execution_count": 224,
   "id": "1a93ba6c",
   "metadata": {},
   "outputs": [
    {
     "data": {
      "text/html": [
       "<div>\n",
       "<style scoped>\n",
       "    .dataframe tbody tr th:only-of-type {\n",
       "        vertical-align: middle;\n",
       "    }\n",
       "\n",
       "    .dataframe tbody tr th {\n",
       "        vertical-align: top;\n",
       "    }\n",
       "\n",
       "    .dataframe thead th {\n",
       "        text-align: right;\n",
       "    }\n",
       "</style>\n",
       "<table border=\"1\" class=\"dataframe\">\n",
       "  <thead>\n",
       "    <tr style=\"text-align: right;\">\n",
       "      <th></th>\n",
       "      <th>title</th>\n",
       "      <th>rating count</th>\n",
       "      <th>average rating</th>\n",
       "    </tr>\n",
       "  </thead>\n",
       "  <tbody>\n",
       "    <tr>\n",
       "      <th>0</th>\n",
       "      <td>\"BLOW THE NIGHT!\" Let's Spend the Night Togeth...</td>\n",
       "      <td>1</td>\n",
       "      <td>3.000000</td>\n",
       "    </tr>\n",
       "    <tr>\n",
       "      <th>1</th>\n",
       "      <td>\"Great Performances\" Cats (1998)</td>\n",
       "      <td>179</td>\n",
       "      <td>2.896648</td>\n",
       "    </tr>\n",
       "    <tr>\n",
       "      <th>2</th>\n",
       "      <td>#1 Cheerleader Camp (2010)</td>\n",
       "      <td>9</td>\n",
       "      <td>2.111111</td>\n",
       "    </tr>\n",
       "    <tr>\n",
       "      <th>3</th>\n",
       "      <td>#Captured (2017)</td>\n",
       "      <td>2</td>\n",
       "      <td>3.750000</td>\n",
       "    </tr>\n",
       "    <tr>\n",
       "      <th>4</th>\n",
       "      <td>#Female Pleasure (2018)</td>\n",
       "      <td>3</td>\n",
       "      <td>3.666667</td>\n",
       "    </tr>\n",
       "  </tbody>\n",
       "</table>\n",
       "</div>"
      ],
      "text/plain": [
       "                                               title  rating count  \\\n",
       "0  \"BLOW THE NIGHT!\" Let's Spend the Night Togeth...             1   \n",
       "1                   \"Great Performances\" Cats (1998)           179   \n",
       "2                         #1 Cheerleader Camp (2010)             9   \n",
       "3                                   #Captured (2017)             2   \n",
       "4                            #Female Pleasure (2018)             3   \n",
       "\n",
       "   average rating  \n",
       "0        3.000000  \n",
       "1        2.896648  \n",
       "2        2.111111  \n",
       "3        3.750000  \n",
       "4        3.666667  "
      ]
     },
     "execution_count": 224,
     "metadata": {},
     "output_type": "execute_result"
    }
   ],
   "source": [
    "# Merging the two sets\n",
    "dataset = movie_count_ratings.merge(movie_av_ratings, on = \"title\")\n",
    "dataset.head()"
   ]
  },
  {
   "cell_type": "markdown",
   "id": "75b41055",
   "metadata": {},
   "source": [
    "### Some DataViz and pre-processing"
   ]
  },
  {
   "cell_type": "code",
   "execution_count": 225,
   "id": "a86f346e",
   "metadata": {},
   "outputs": [
    {
     "data": {
      "text/plain": [
       "array([[<AxesSubplot:title={'center':'rating count'}>,\n",
       "        <AxesSubplot:title={'center':'average rating'}>]], dtype=object)"
      ]
     },
     "execution_count": 225,
     "metadata": {},
     "output_type": "execute_result"
    },
    {
     "data": {
      "image/png": "[encoded data removed]",
      "text/plain": [
       "<Figure size 1440x1080 with 2 Axes>"
      ]
     },
     "metadata": {
      "needs_background": "light"
     },
     "output_type": "display_data"
    }
   ],
   "source": [
    "dataset.hist(bins = 80, figsize=(20 , 15) )"
   ]
  },
  {
   "cell_type": "markdown",
   "id": "bad23022",
   "metadata": {},
   "source": [
    "The hist plot suggests the existance of some outliers seen as so many movies have been rated very few times, we need to set a threshold of popularity to only take into consideration movies that have been seen and rated by many people. I decided to set the threshold at 30 meaning that if less than 30 people have rated the movie, it won't be considered by the recommender."
   ]
  },
  {
   "cell_type": "code",
   "execution_count": 226,
   "id": "f6914cd4",
   "metadata": {},
   "outputs": [
    {
     "data": {
      "text/html": [
       "<div>\n",
       "<style scoped>\n",
       "    .dataframe tbody tr th:only-of-type {\n",
       "        vertical-align: middle;\n",
       "    }\n",
       "\n",
       "    .dataframe tbody tr th {\n",
       "        vertical-align: top;\n",
       "    }\n",
       "\n",
       "    .dataframe thead th {\n",
       "        text-align: right;\n",
       "    }\n",
       "</style>\n",
       "<table border=\"1\" class=\"dataframe\">\n",
       "  <thead>\n",
       "    <tr style=\"text-align: right;\">\n",
       "      <th></th>\n",
       "      <th>rating count</th>\n",
       "      <th>average rating</th>\n",
       "    </tr>\n",
       "  </thead>\n",
       "  <tbody>\n",
       "    <tr>\n",
       "      <th>count</th>\n",
       "      <td>15912.000000</td>\n",
       "      <td>15912.000000</td>\n",
       "    </tr>\n",
       "    <tr>\n",
       "      <th>mean</th>\n",
       "      <td>1555.458333</td>\n",
       "      <td>3.256978</td>\n",
       "    </tr>\n",
       "    <tr>\n",
       "      <th>std</th>\n",
       "      <td>4586.022847</td>\n",
       "      <td>0.480636</td>\n",
       "    </tr>\n",
       "    <tr>\n",
       "      <th>min</th>\n",
       "      <td>30.000000</td>\n",
       "      <td>0.854839</td>\n",
       "    </tr>\n",
       "    <tr>\n",
       "      <th>25%</th>\n",
       "      <td>66.000000</td>\n",
       "      <td>2.972858</td>\n",
       "    </tr>\n",
       "    <tr>\n",
       "      <th>50%</th>\n",
       "      <td>201.000000</td>\n",
       "      <td>3.319956</td>\n",
       "    </tr>\n",
       "    <tr>\n",
       "      <th>75%</th>\n",
       "      <td>909.250000</td>\n",
       "      <td>3.611803</td>\n",
       "    </tr>\n",
       "    <tr>\n",
       "      <th>max</th>\n",
       "      <td>81491.000000</td>\n",
       "      <td>4.483096</td>\n",
       "    </tr>\n",
       "  </tbody>\n",
       "</table>\n",
       "</div>"
      ],
      "text/plain": [
       "       rating count  average rating\n",
       "count  15912.000000    15912.000000\n",
       "mean    1555.458333        3.256978\n",
       "std     4586.022847        0.480636\n",
       "min       30.000000        0.854839\n",
       "25%       66.000000        2.972858\n",
       "50%      201.000000        3.319956\n",
       "75%      909.250000        3.611803\n",
       "max    81491.000000        4.483096"
      ]
     },
     "execution_count": 226,
     "metadata": {},
     "output_type": "execute_result"
    }
   ],
   "source": [
    "popularity = 30\n",
    "dataset = dataset[dataset[\"rating count\"]>= popularity]\n",
    "dataset.describe()"
   ]
  },
  {
   "cell_type": "markdown",
   "id": "a7e25528",
   "metadata": {},
   "source": [
    "Now we see that the minimun value for rating count is 30, mean 50 and so on."
   ]
  },
  {
   "attachments": {
    "image.png": {
     "image/png": "[encoded data removed]"
    }
   },
   "cell_type": "markdown",
   "id": "184753fd",
   "metadata": {},
   "source": [
    "## Popularity filtering\n",
    "\n",
    "Popularity filtering is based on the idea that movies that have been rated highly by a lot of people are likely to please the new person. To do this, we need to use a weighted average that enable to gauge the popularity depending on how many people rated the movie; meaning that for example a movie that has been rated 4 stars by say 100 people should be recommended more than a movie that has been rated 5 stars by only 2 people.\n",
    "\n",
    "The formula for the weighed average is as follows:\n",
    "\n",
    "![image.png](attachment:image.png)\n",
    "where:\n",
    "- v is the number of votes for a movie, \n",
    "- m is the min votes required to be in the chart\n",
    "- R is the average rating of the movie \n",
    "- C is the mean vote across the entire dataset"
   ]
  },
  {
   "cell_type": "code",
   "execution_count": 227,
   "id": "02889b62",
   "metadata": {},
   "outputs": [
    {
     "data": {
      "text/plain": [
       "3.2569781620132923"
      ]
     },
     "execution_count": 227,
     "metadata": {},
     "output_type": "execute_result"
    }
   ],
   "source": [
    "# Let's calculate C which is the average rating of all movies\n",
    "C = dataset[\"average rating\"].mean()\n",
    "C"
   ]
  },
  {
   "cell_type": "code",
   "execution_count": 228,
   "id": "d8c1436f",
   "metadata": {},
   "outputs": [
    {
     "data": {
      "text/plain": [
       "909.25"
      ]
     },
     "execution_count": 228,
     "metadata": {},
     "output_type": "execute_result"
    }
   ],
   "source": [
    "# Now we need to set the value of m which is the minimum number of votes that a movie has to have to figure in the chart\n",
    "# I used the 75% percentile i.e for a movie to feature in the chart it must have more votes than at least 75% of the movies\n",
    "m = dataset[\"rating count\"].quantile(0.75)\n",
    "m"
   ]
  },
  {
   "cell_type": "code",
   "execution_count": 229,
   "id": "b7960ab1",
   "metadata": {},
   "outputs": [
    {
     "data": {
      "text/plain": [
       "(3978, 3)"
      ]
     },
     "execution_count": 229,
     "metadata": {},
     "output_type": "execute_result"
    }
   ],
   "source": [
    "# Filter out the movies that can feature in the charts\n",
    "dataset = dataset[dataset[\"rating count\"] >= m]\n",
    "dataset.shape"
   ]
  },
  {
   "cell_type": "code",
   "execution_count": 230,
   "id": "f1bd9610",
   "metadata": {},
   "outputs": [],
   "source": [
    "# The dataset now has only 3978 movies \n",
    "# Now we need to calculate the weighed scores of each of these movies and store it a new column\n",
    "def weighted_score(x, m=m, C=C):\n",
    "    v = x[\"rating count\"]\n",
    "    R = x[\"average rating\"]\n",
    "    return (v/(v+m) * R) + (m/(v+m)*C)"
   ]
  },
  {
   "cell_type": "code",
   "execution_count": 231,
   "id": "ef69b019",
   "metadata": {},
   "outputs": [
    {
     "data": {
      "text/html": [
       "<div>\n",
       "<style scoped>\n",
       "    .dataframe tbody tr th:only-of-type {\n",
       "        vertical-align: middle;\n",
       "    }\n",
       "\n",
       "    .dataframe tbody tr th {\n",
       "        vertical-align: top;\n",
       "    }\n",
       "\n",
       "    .dataframe thead th {\n",
       "        text-align: right;\n",
       "    }\n",
       "</style>\n",
       "<table border=\"1\" class=\"dataframe\">\n",
       "  <thead>\n",
       "    <tr style=\"text-align: right;\">\n",
       "      <th></th>\n",
       "      <th>title</th>\n",
       "      <th>rating count</th>\n",
       "      <th>average rating</th>\n",
       "      <th>weighted score</th>\n",
       "    </tr>\n",
       "  </thead>\n",
       "  <tbody>\n",
       "    <tr>\n",
       "      <th>41782</th>\n",
       "      <td>Shawshank Redemption, The (1994)</td>\n",
       "      <td>81482</td>\n",
       "      <td>4.413576</td>\n",
       "      <td>4.400812</td>\n",
       "    </tr>\n",
       "    <tr>\n",
       "      <th>19301</th>\n",
       "      <td>Godfather, The (1972)</td>\n",
       "      <td>52498</td>\n",
       "      <td>4.324336</td>\n",
       "      <td>4.306165</td>\n",
       "    </tr>\n",
       "    <tr>\n",
       "      <th>55289</th>\n",
       "      <td>Usual Suspects, The (1995)</td>\n",
       "      <td>55366</td>\n",
       "      <td>4.284353</td>\n",
       "      <td>4.267754</td>\n",
       "    </tr>\n",
       "    <tr>\n",
       "      <th>19302</th>\n",
       "      <td>Godfather: Part II, The (1974)</td>\n",
       "      <td>34188</td>\n",
       "      <td>4.261759</td>\n",
       "      <td>4.235728</td>\n",
       "    </tr>\n",
       "    <tr>\n",
       "      <th>40816</th>\n",
       "      <td>Schindler's List (1993)</td>\n",
       "      <td>60411</td>\n",
       "      <td>4.247579</td>\n",
       "      <td>4.232891</td>\n",
       "    </tr>\n",
       "    <tr>\n",
       "      <th>16751</th>\n",
       "      <td>Fight Club (1999)</td>\n",
       "      <td>58773</td>\n",
       "      <td>4.228311</td>\n",
       "      <td>4.213513</td>\n",
       "    </tr>\n",
       "    <tr>\n",
       "      <th>38620</th>\n",
       "      <td>Rear Window (1954)</td>\n",
       "      <td>20162</td>\n",
       "      <td>4.237948</td>\n",
       "      <td>4.195618</td>\n",
       "    </tr>\n",
       "    <tr>\n",
       "      <th>34839</th>\n",
       "      <td>One Flew Over the Cuckoo's Nest (1975)</td>\n",
       "      <td>36058</td>\n",
       "      <td>4.218662</td>\n",
       "      <td>4.195008</td>\n",
       "    </tr>\n",
       "    <tr>\n",
       "      <th>182</th>\n",
       "      <td>12 Angry Men (1957)</td>\n",
       "      <td>16569</td>\n",
       "      <td>4.243014</td>\n",
       "      <td>4.191719</td>\n",
       "    </tr>\n",
       "    <tr>\n",
       "      <th>41448</th>\n",
       "      <td>Seven Samurai (Shichinin no samurai) (1954)</td>\n",
       "      <td>13367</td>\n",
       "      <td>4.254769</td>\n",
       "      <td>4.191220</td>\n",
       "    </tr>\n",
       "  </tbody>\n",
       "</table>\n",
       "</div>"
      ],
      "text/plain": [
       "                                             title  rating count  \\\n",
       "41782             Shawshank Redemption, The (1994)         81482   \n",
       "19301                        Godfather, The (1972)         52498   \n",
       "55289                   Usual Suspects, The (1995)         55366   \n",
       "19302               Godfather: Part II, The (1974)         34188   \n",
       "40816                      Schindler's List (1993)         60411   \n",
       "16751                            Fight Club (1999)         58773   \n",
       "38620                           Rear Window (1954)         20162   \n",
       "34839       One Flew Over the Cuckoo's Nest (1975)         36058   \n",
       "182                            12 Angry Men (1957)         16569   \n",
       "41448  Seven Samurai (Shichinin no samurai) (1954)         13367   \n",
       "\n",
       "       average rating  weighted score  \n",
       "41782        4.413576        4.400812  \n",
       "19301        4.324336        4.306165  \n",
       "55289        4.284353        4.267754  \n",
       "19302        4.261759        4.235728  \n",
       "40816        4.247579        4.232891  \n",
       "16751        4.228311        4.213513  \n",
       "38620        4.237948        4.195618  \n",
       "34839        4.218662        4.195008  \n",
       "182          4.243014        4.191719  \n",
       "41448        4.254769        4.191220  "
      ]
     },
     "execution_count": 231,
     "metadata": {},
     "output_type": "execute_result"
    }
   ],
   "source": [
    "dataset[\"weighted score\"] = dataset.apply(weighted_score, axis =1)\n",
    "dataset = dataset.sort_values(\"weighted score\", ascending = False)\n",
    "dataset.head(10)"
   ]
  },
  {
   "cell_type": "markdown",
   "id": "47eda953",
   "metadata": {},
   "source": [
    "Here we have the top 10 recommended movies. This recommendation is general and does not take into consideration the watching history of the user nor their personal preferences. "
   ]
  },
  {
   "cell_type": "code",
   "execution_count": 232,
   "id": "61512bec",
   "metadata": {},
   "outputs": [
    {
     "data": {
      "text/plain": [
       "[Text(0.5, 1.0, 'Top 10 recommended movies')]"
      ]
     },
     "execution_count": 232,
     "metadata": {},
     "output_type": "execute_result"
    },
    {
     "data": {
      "image/png": "[encoded data removed]",
      "text/plain": [
       "<Figure size 432x288 with 1 Axes>"
      ]
     },
     "metadata": {
      "needs_background": "light"
     },
     "output_type": "display_data"
    }
   ],
   "source": [
    "# Visualize the results\n",
    "ds = dataset.head(10)\n",
    "sns.barplot(x = \"weighted score\", y = \"title\", data = ds).set(title = \"Top 10 recommended movies\")"
   ]
  },
  {
   "cell_type": "markdown",
   "id": "c70c478c",
   "metadata": {},
   "source": [
    "## Content based filtering\n",
    "\n",
    "suggest similar items based on a particular item. This system uses item metadata, such as genre, director, description, actors, etc. for movies, to make recommendations. The general idea behind these recommender systems is that if a person liked a particular item, he or she will also like an item that is similar to it.\n",
    "\n",
    "For this project I'll be using both the genre of the movie and its tag"
   ]
  },
  {
   "cell_type": "code",
   "execution_count": 233,
   "id": "9caf5a90",
   "metadata": {},
   "outputs": [
    {
     "data": {
      "text/html": [
       "<div>\n",
       "<style scoped>\n",
       "    .dataframe tbody tr th:only-of-type {\n",
       "        vertical-align: middle;\n",
       "    }\n",
       "\n",
       "    .dataframe tbody tr th {\n",
       "        vertical-align: top;\n",
       "    }\n",
       "\n",
       "    .dataframe thead th {\n",
       "        text-align: right;\n",
       "    }\n",
       "</style>\n",
       "<table border=\"1\" class=\"dataframe\">\n",
       "  <thead>\n",
       "    <tr style=\"text-align: right;\">\n",
       "      <th></th>\n",
       "      <th>userId</th>\n",
       "      <th>movieId</th>\n",
       "      <th>tag</th>\n",
       "      <th>timestamp</th>\n",
       "    </tr>\n",
       "  </thead>\n",
       "  <tbody>\n",
       "    <tr>\n",
       "      <th>0</th>\n",
       "      <td>3</td>\n",
       "      <td>260</td>\n",
       "      <td>classic</td>\n",
       "      <td>1439472355</td>\n",
       "    </tr>\n",
       "    <tr>\n",
       "      <th>1</th>\n",
       "      <td>3</td>\n",
       "      <td>260</td>\n",
       "      <td>sci-fi</td>\n",
       "      <td>1439472256</td>\n",
       "    </tr>\n",
       "    <tr>\n",
       "      <th>2</th>\n",
       "      <td>4</td>\n",
       "      <td>1732</td>\n",
       "      <td>dark comedy</td>\n",
       "      <td>1573943598</td>\n",
       "    </tr>\n",
       "    <tr>\n",
       "      <th>3</th>\n",
       "      <td>4</td>\n",
       "      <td>1732</td>\n",
       "      <td>great dialogue</td>\n",
       "      <td>1573943604</td>\n",
       "    </tr>\n",
       "    <tr>\n",
       "      <th>4</th>\n",
       "      <td>4</td>\n",
       "      <td>7569</td>\n",
       "      <td>so bad it's good</td>\n",
       "      <td>1573943455</td>\n",
       "    </tr>\n",
       "  </tbody>\n",
       "</table>\n",
       "</div>"
      ],
      "text/plain": [
       "   userId  movieId               tag   timestamp\n",
       "0       3      260           classic  1439472355\n",
       "1       3      260            sci-fi  1439472256\n",
       "2       4     1732       dark comedy  1573943598\n",
       "3       4     1732    great dialogue  1573943604\n",
       "4       4     7569  so bad it's good  1573943455"
      ]
     },
     "execution_count": 233,
     "metadata": {},
     "output_type": "execute_result"
    }
   ],
   "source": [
    "# Import the tags dataset\n",
    "tags = pd.read_csv(r'C:\\Users\\imane\\OneDrive\\Desktop\\movie-recommendation\\moiveLens\\tags.csv', sep =\",\")\n",
    "tags.head()"
   ]
  },
  {
   "cell_type": "code",
   "execution_count": 234,
   "id": "12c8f1b4",
   "metadata": {},
   "outputs": [
    {
     "data": {
      "text/html": [
       "<div>\n",
       "<style scoped>\n",
       "    .dataframe tbody tr th:only-of-type {\n",
       "        vertical-align: middle;\n",
       "    }\n",
       "\n",
       "    .dataframe tbody tr th {\n",
       "        vertical-align: top;\n",
       "    }\n",
       "\n",
       "    .dataframe thead th {\n",
       "        text-align: right;\n",
       "    }\n",
       "</style>\n",
       "<table border=\"1\" class=\"dataframe\">\n",
       "  <thead>\n",
       "    <tr style=\"text-align: right;\">\n",
       "      <th></th>\n",
       "      <th>userId</th>\n",
       "      <th>movieId</th>\n",
       "      <th>tag</th>\n",
       "      <th>title</th>\n",
       "      <th>genres</th>\n",
       "    </tr>\n",
       "  </thead>\n",
       "  <tbody>\n",
       "    <tr>\n",
       "      <th>0</th>\n",
       "      <td>3</td>\n",
       "      <td>260</td>\n",
       "      <td>classic</td>\n",
       "      <td>Star Wars: Episode IV - A New Hope (1977)</td>\n",
       "      <td>Action|Adventure|Sci-Fi</td>\n",
       "    </tr>\n",
       "    <tr>\n",
       "      <th>1</th>\n",
       "      <td>3</td>\n",
       "      <td>260</td>\n",
       "      <td>sci-fi</td>\n",
       "      <td>Star Wars: Episode IV - A New Hope (1977)</td>\n",
       "      <td>Action|Adventure|Sci-Fi</td>\n",
       "    </tr>\n",
       "    <tr>\n",
       "      <th>2</th>\n",
       "      <td>110</td>\n",
       "      <td>260</td>\n",
       "      <td>action</td>\n",
       "      <td>Star Wars: Episode IV - A New Hope (1977)</td>\n",
       "      <td>Action|Adventure|Sci-Fi</td>\n",
       "    </tr>\n",
       "    <tr>\n",
       "      <th>3</th>\n",
       "      <td>110</td>\n",
       "      <td>260</td>\n",
       "      <td>adventure</td>\n",
       "      <td>Star Wars: Episode IV - A New Hope (1977)</td>\n",
       "      <td>Action|Adventure|Sci-Fi</td>\n",
       "    </tr>\n",
       "    <tr>\n",
       "      <th>4</th>\n",
       "      <td>110</td>\n",
       "      <td>260</td>\n",
       "      <td>fantasy</td>\n",
       "      <td>Star Wars: Episode IV - A New Hope (1977)</td>\n",
       "      <td>Action|Adventure|Sci-Fi</td>\n",
       "    </tr>\n",
       "  </tbody>\n",
       "</table>\n",
       "</div>"
      ],
      "text/plain": [
       "   userId  movieId        tag                                      title  \\\n",
       "0       3      260    classic  Star Wars: Episode IV - A New Hope (1977)   \n",
       "1       3      260     sci-fi  Star Wars: Episode IV - A New Hope (1977)   \n",
       "2     110      260     action  Star Wars: Episode IV - A New Hope (1977)   \n",
       "3     110      260  adventure  Star Wars: Episode IV - A New Hope (1977)   \n",
       "4     110      260    fantasy  Star Wars: Episode IV - A New Hope (1977)   \n",
       "\n",
       "                    genres  \n",
       "0  Action|Adventure|Sci-Fi  \n",
       "1  Action|Adventure|Sci-Fi  \n",
       "2  Action|Adventure|Sci-Fi  \n",
       "3  Action|Adventure|Sci-Fi  \n",
       "4  Action|Adventure|Sci-Fi  "
      ]
     },
     "execution_count": 234,
     "metadata": {},
     "output_type": "execute_result"
    }
   ],
   "source": [
    "# Merging it with the movies dataset which contains the genres\n",
    "movie_desc = tags.merge(movies, on = \"movieId\" )\n",
    "movie_desc = movie_desc.drop(\"timestamp\", axis =1)\n",
    "movie_desc.head()"
   ]
  },
  {
   "cell_type": "code",
   "execution_count": 235,
   "id": "015d8624",
   "metadata": {},
   "outputs": [
    {
     "data": {
      "text/plain": [
       "userId     0\n",
       "movieId    0\n",
       "tag        0\n",
       "title      0\n",
       "genres     0\n",
       "dtype: int64"
      ]
     },
     "execution_count": 235,
     "metadata": {},
     "output_type": "execute_result"
    }
   ],
   "source": [
    "movie_desc = movie_desc.dropna()\n",
    "movie_desc.isnull().sum()"
   ]
  },
  {
   "cell_type": "code",
   "execution_count": 236,
   "id": "d37fddfe",
   "metadata": {},
   "outputs": [
    {
     "data": {
      "text/html": [
       "<div>\n",
       "<style scoped>\n",
       "    .dataframe tbody tr th:only-of-type {\n",
       "        vertical-align: middle;\n",
       "    }\n",
       "\n",
       "    .dataframe tbody tr th {\n",
       "        vertical-align: top;\n",
       "    }\n",
       "\n",
       "    .dataframe thead th {\n",
       "        text-align: right;\n",
       "    }\n",
       "</style>\n",
       "<table border=\"1\" class=\"dataframe\">\n",
       "  <thead>\n",
       "    <tr style=\"text-align: right;\">\n",
       "      <th></th>\n",
       "      <th>userId</th>\n",
       "      <th>movieId</th>\n",
       "      <th>title</th>\n",
       "      <th>tag and genre</th>\n",
       "    </tr>\n",
       "  </thead>\n",
       "  <tbody>\n",
       "    <tr>\n",
       "      <th>0</th>\n",
       "      <td>3</td>\n",
       "      <td>260</td>\n",
       "      <td>Star Wars: Episode IV - A New Hope (1977)</td>\n",
       "      <td>classic Action|Adventure|Sci-Fi</td>\n",
       "    </tr>\n",
       "    <tr>\n",
       "      <th>1</th>\n",
       "      <td>3</td>\n",
       "      <td>260</td>\n",
       "      <td>Star Wars: Episode IV - A New Hope (1977)</td>\n",
       "      <td>sci-fi Action|Adventure|Sci-Fi</td>\n",
       "    </tr>\n",
       "    <tr>\n",
       "      <th>2</th>\n",
       "      <td>110</td>\n",
       "      <td>260</td>\n",
       "      <td>Star Wars: Episode IV - A New Hope (1977)</td>\n",
       "      <td>action Action|Adventure|Sci-Fi</td>\n",
       "    </tr>\n",
       "    <tr>\n",
       "      <th>3</th>\n",
       "      <td>110</td>\n",
       "      <td>260</td>\n",
       "      <td>Star Wars: Episode IV - A New Hope (1977)</td>\n",
       "      <td>adventure Action|Adventure|Sci-Fi</td>\n",
       "    </tr>\n",
       "    <tr>\n",
       "      <th>4</th>\n",
       "      <td>110</td>\n",
       "      <td>260</td>\n",
       "      <td>Star Wars: Episode IV - A New Hope (1977)</td>\n",
       "      <td>fantasy Action|Adventure|Sci-Fi</td>\n",
       "    </tr>\n",
       "  </tbody>\n",
       "</table>\n",
       "</div>"
      ],
      "text/plain": [
       "   userId  movieId                                      title  \\\n",
       "0       3      260  Star Wars: Episode IV - A New Hope (1977)   \n",
       "1       3      260  Star Wars: Episode IV - A New Hope (1977)   \n",
       "2     110      260  Star Wars: Episode IV - A New Hope (1977)   \n",
       "3     110      260  Star Wars: Episode IV - A New Hope (1977)   \n",
       "4     110      260  Star Wars: Episode IV - A New Hope (1977)   \n",
       "\n",
       "                       tag and genre  \n",
       "0    classic Action|Adventure|Sci-Fi  \n",
       "1     sci-fi Action|Adventure|Sci-Fi  \n",
       "2     action Action|Adventure|Sci-Fi  \n",
       "3  adventure Action|Adventure|Sci-Fi  \n",
       "4    fantasy Action|Adventure|Sci-Fi  "
      ]
     },
     "execution_count": 236,
     "metadata": {},
     "output_type": "execute_result"
    }
   ],
   "source": [
    "# Combining the genre and tag in one column\n",
    "movie_desc[\"genres\"] = movie_desc['tag'].astype(str) +\" \"+ movie_desc[\"genres\"]\n",
    "movie_desc = movie_desc.drop(\"tag\", axis = 1)\n",
    "movie_desc = movie_desc.rename(columns={\"genres\": \"tag and genre\"})\n",
    "movie_desc.head()"
   ]
  },
  {
   "cell_type": "code",
   "execution_count": 238,
   "id": "a6dabda9",
   "metadata": {},
   "outputs": [
    {
     "name": "stderr",
     "output_type": "stream",
     "text": [
      "C:\\Users\\imane\\AppData\\Local\\Temp/ipykernel_31756/1218737094.py:1: FutureWarning: The default value of regex will change from True to False in a future version. In addition, single character regular expressions will *not* be treated as literal strings when regex=True.\n",
      "  movie_desc[\"tag and genre\"]  = movie_desc[\"tag and genre\"].str.replace(\"|\",\" \")\n"
     ]
    },
    {
     "data": {
      "text/html": [
       "<div>\n",
       "<style scoped>\n",
       "    .dataframe tbody tr th:only-of-type {\n",
       "        vertical-align: middle;\n",
       "    }\n",
       "\n",
       "    .dataframe tbody tr th {\n",
       "        vertical-align: top;\n",
       "    }\n",
       "\n",
       "    .dataframe thead th {\n",
       "        text-align: right;\n",
       "    }\n",
       "</style>\n",
       "<table border=\"1\" class=\"dataframe\">\n",
       "  <thead>\n",
       "    <tr style=\"text-align: right;\">\n",
       "      <th></th>\n",
       "      <th>userId</th>\n",
       "      <th>movieId</th>\n",
       "      <th>title</th>\n",
       "      <th>tag and genre</th>\n",
       "    </tr>\n",
       "  </thead>\n",
       "  <tbody>\n",
       "    <tr>\n",
       "      <th>0</th>\n",
       "      <td>3</td>\n",
       "      <td>260</td>\n",
       "      <td>Star Wars: Episode IV - A New Hope (1977)</td>\n",
       "      <td>classic Action Adventure Sci-Fi</td>\n",
       "    </tr>\n",
       "    <tr>\n",
       "      <th>1</th>\n",
       "      <td>3</td>\n",
       "      <td>260</td>\n",
       "      <td>Star Wars: Episode IV - A New Hope (1977)</td>\n",
       "      <td>sci-fi Action Adventure Sci-Fi</td>\n",
       "    </tr>\n",
       "    <tr>\n",
       "      <th>2</th>\n",
       "      <td>110</td>\n",
       "      <td>260</td>\n",
       "      <td>Star Wars: Episode IV - A New Hope (1977)</td>\n",
       "      <td>action Action Adventure Sci-Fi</td>\n",
       "    </tr>\n",
       "    <tr>\n",
       "      <th>3</th>\n",
       "      <td>110</td>\n",
       "      <td>260</td>\n",
       "      <td>Star Wars: Episode IV - A New Hope (1977)</td>\n",
       "      <td>adventure Action Adventure Sci-Fi</td>\n",
       "    </tr>\n",
       "    <tr>\n",
       "      <th>4</th>\n",
       "      <td>110</td>\n",
       "      <td>260</td>\n",
       "      <td>Star Wars: Episode IV - A New Hope (1977)</td>\n",
       "      <td>fantasy Action Adventure Sci-Fi</td>\n",
       "    </tr>\n",
       "  </tbody>\n",
       "</table>\n",
       "</div>"
      ],
      "text/plain": [
       "   userId  movieId                                      title  \\\n",
       "0       3      260  Star Wars: Episode IV - A New Hope (1977)   \n",
       "1       3      260  Star Wars: Episode IV - A New Hope (1977)   \n",
       "2     110      260  Star Wars: Episode IV - A New Hope (1977)   \n",
       "3     110      260  Star Wars: Episode IV - A New Hope (1977)   \n",
       "4     110      260  Star Wars: Episode IV - A New Hope (1977)   \n",
       "\n",
       "                       tag and genre  \n",
       "0    classic Action Adventure Sci-Fi  \n",
       "1     sci-fi Action Adventure Sci-Fi  \n",
       "2     action Action Adventure Sci-Fi  \n",
       "3  adventure Action Adventure Sci-Fi  \n",
       "4    fantasy Action Adventure Sci-Fi  "
      ]
     },
     "execution_count": 238,
     "metadata": {},
     "output_type": "execute_result"
    }
   ],
   "source": [
    "# Removing unecessary characters\n",
    "movie_desc[\"tag and genre\"]  = movie_desc[\"tag and genre\"].str.replace(\"|\",\" \")\n",
    "movie_desc.head()"
   ]
  },
  {
   "cell_type": "markdown",
   "id": "d5f71b77",
   "metadata": {},
   "source": [
    "Next move is to transform the text contained in tag and genre to a vector matrix using victorization. I'll be using TfidfVectorizer which determines the importance of a word. It does this by computing the relative frequency of the word in the document (term instances/total instances), and the Inverse Document Frequency which is the relative count of documents containing the term (log(number of documents/documents with term)), the result of TF * IDF is the importance of the word."
   ]
  },
  {
   "cell_type": "code",
   "execution_count": null,
   "id": "b8ecf4b4",
   "metadata": {},
   "outputs": [],
   "source": []
  }
 ],
 "metadata": {
  "kernelspec": {
   "display_name": "Python 3 (ipykernel)",
   "language": "python",
   "name": "python3"
  },
  "language_info": {
   "codemirror_mode": {
    "name": "ipython",
    "version": 3
   },
   "file_extension": ".py",
   "mimetype": "text/x-python",
   "name": "python",
   "nbconvert_exporter": "python",
   "pygments_lexer": "ipython3",
   "version": "3.9.6"
  }
 },
 "nbformat": 4,
 "nbformat_minor": 5
}

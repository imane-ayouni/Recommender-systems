{
 "cells": [
  {
   "cell_type": "markdown",
   "id": "4ef9c816",
   "metadata": {},
   "source": [
    "# Movie Recommender Systems"
   ]
  },
  {
   "cell_type": "markdown",
   "id": "0e05c37f",
   "metadata": {},
   "source": [
    "## Overview\n",
    "\n",
    "The rapid growth of data collection has led to a new era of information. Data is being used to create more efficient systems and this is where Recommendation Systems come into play. Recommendation Systems are a type of information filtering systems as they improve the quality of search results and provides items that are more relevant to the search item or are realted to the search history of the user.\n",
    "\n",
    "In this notebook, I'm using the data provided by MovieLens and it contains various information in serveral datasets. I'm going to be using three datasets: ratings, movies and users which contain the following columns:\n",
    "- UserId : the id of the person who gave the rating\n",
    "- MovieId : the number of identification of the movie being rated\n",
    "- rating : how much out of 5 did the user give\n",
    "- title of the movie\n",
    "- genre : contains keywords that describe the movie\n",
    "- tags : which are specific phrases the users gave to describe the movie \n",
    "\n",
    "I'll also be using three kinds of recommender systems :\n",
    "- Demographic filtering or Popularity filtering : offers generalized recommendations to every user, based on movie popularity and/or genre. The System recommends the same movies to users with similar demographic features. Since each user is different , this approach is considered to be too simple. The basic idea behind this system is that movies that are more popular and critically acclaimed will have a higher probability of being liked by the average audience.\n",
    "- Content based filtering : suggests similar items based on a particular item. This system uses item metadata, such as genre, director, description, actors, etc. for movies, to make these recommendations. The general idea behind these recommender systems is that if a person liked a particular item, he or she will also like an item that is similar to it.\n",
    "- Collaborative filtering : matches persons with similar interests and provides recommendations based on this matching. Collaborative filters do not require item metadata like its content-based counterparts."
   ]
  },
  {
   "cell_type": "markdown",
   "id": "4fdc06e0",
   "metadata": {},
   "source": [
    "## Objectives\n",
    "\n",
    "Create 3 kinds of recommender systems based on the rating history and movie descriptions.\n",
    "Make recommendations and compare them."
   ]
  },
  {
   "cell_type": "markdown",
   "id": "3a31e63f",
   "metadata": {},
   "source": [
    "## Summary\n",
    "\n",
    "- Importing libraries and datasets\n",
    "- Pre_processing and dataviz\n",
    "- Popularity filtering\n",
    "- Content based filerting\n",
    "- Collaborative filtering with SVD\n",
    "- Conclusion"
   ]
  },
  {
   "cell_type": "markdown",
   "id": "b2721a01",
   "metadata": {},
   "source": [
    "### Importing Libraries"
   ]
  },
  {
   "cell_type": "code",
   "execution_count": 50,
   "id": "d140bde1",
   "metadata": {},
   "outputs": [],
   "source": [
    "import pandas as pd\n",
    "import numpy as np\n",
    "import seaborn as sns\n",
    "import matplotlib.pyplot as plt\n",
    "from sklearn.feature_extraction.text import TfidfVectorizer\n",
    "from sklearn.metrics.pairwise import linear_kernel,cosine_distances\n",
    "import dask.dataframe as dd\n",
    "from scipy.stats import pearsonr\n",
    "from sklearn.decomposition import TruncatedSVD"
   ]
  },
  {
   "cell_type": "markdown",
   "id": "4d82f6fc",
   "metadata": {},
   "source": [
    "### The Datasets"
   ]
  },
  {
   "cell_type": "code",
   "execution_count": 51,
   "id": "04a1ffa7",
   "metadata": {},
   "outputs": [
    {
     "name": "stdout",
     "output_type": "stream",
     "text": [
      "<class 'pandas.core.frame.DataFrame'>\n",
      "RangeIndex: 25000095 entries, 0 to 25000094\n",
      "Data columns (total 4 columns):\n",
      " #   Column     Dtype  \n",
      "---  ------     -----  \n",
      " 0   userId     int64  \n",
      " 1   movieId    int64  \n",
      " 2   rating     float64\n",
      " 3   timestamp  int64  \n",
      "dtypes: float64(1), int64(3)\n",
      "memory usage: 762.9 MB\n"
     ]
    }
   ],
   "source": [
    "ratings = pd.read_csv(r'C:\\Users\\imane\\OneDrive\\Desktop\\movie-recommendation\\moiveLens\\ratings.csv', sep =\",\")\n",
    "ratings.info()"
   ]
  },
  {
   "cell_type": "code",
   "execution_count": 52,
   "id": "f3b5cbfd",
   "metadata": {},
   "outputs": [
    {
     "data": {
      "text/html": [
       "<div>\n",
       "<style scoped>\n",
       "    .dataframe tbody tr th:only-of-type {\n",
       "        vertical-align: middle;\n",
       "    }\n",
       "\n",
       "    .dataframe tbody tr th {\n",
       "        vertical-align: top;\n",
       "    }\n",
       "\n",
       "    .dataframe thead th {\n",
       "        text-align: right;\n",
       "    }\n",
       "</style>\n",
       "<table border=\"1\" class=\"dataframe\">\n",
       "  <thead>\n",
       "    <tr style=\"text-align: right;\">\n",
       "      <th></th>\n",
       "      <th>userId</th>\n",
       "      <th>movieId</th>\n",
       "      <th>rating</th>\n",
       "      <th>timestamp</th>\n",
       "    </tr>\n",
       "  </thead>\n",
       "  <tbody>\n",
       "    <tr>\n",
       "      <th>0</th>\n",
       "      <td>1</td>\n",
       "      <td>296</td>\n",
       "      <td>5.0</td>\n",
       "      <td>1147880044</td>\n",
       "    </tr>\n",
       "    <tr>\n",
       "      <th>1</th>\n",
       "      <td>1</td>\n",
       "      <td>306</td>\n",
       "      <td>3.5</td>\n",
       "      <td>1147868817</td>\n",
       "    </tr>\n",
       "    <tr>\n",
       "      <th>2</th>\n",
       "      <td>1</td>\n",
       "      <td>307</td>\n",
       "      <td>5.0</td>\n",
       "      <td>1147868828</td>\n",
       "    </tr>\n",
       "    <tr>\n",
       "      <th>3</th>\n",
       "      <td>1</td>\n",
       "      <td>665</td>\n",
       "      <td>5.0</td>\n",
       "      <td>1147878820</td>\n",
       "    </tr>\n",
       "    <tr>\n",
       "      <th>4</th>\n",
       "      <td>1</td>\n",
       "      <td>899</td>\n",
       "      <td>3.5</td>\n",
       "      <td>1147868510</td>\n",
       "    </tr>\n",
       "  </tbody>\n",
       "</table>\n",
       "</div>"
      ],
      "text/plain": [
       "   userId  movieId  rating   timestamp\n",
       "0       1      296     5.0  1147880044\n",
       "1       1      306     3.5  1147868817\n",
       "2       1      307     5.0  1147868828\n",
       "3       1      665     5.0  1147878820\n",
       "4       1      899     3.5  1147868510"
      ]
     },
     "execution_count": 52,
     "metadata": {},
     "output_type": "execute_result"
    }
   ],
   "source": [
    "ratings.head()"
   ]
  },
  {
   "cell_type": "code",
   "execution_count": 53,
   "id": "a76ed5b0",
   "metadata": {},
   "outputs": [
    {
     "data": {
      "text/plain": [
       "userId       0\n",
       "movieId      0\n",
       "rating       0\n",
       "timestamp    0\n",
       "dtype: int64"
      ]
     },
     "execution_count": 53,
     "metadata": {},
     "output_type": "execute_result"
    }
   ],
   "source": [
    "ratings.isnull().sum()"
   ]
  },
  {
   "cell_type": "code",
   "execution_count": 54,
   "id": "bb3af675",
   "metadata": {},
   "outputs": [
    {
     "name": "stdout",
     "output_type": "stream",
     "text": [
      "<class 'pandas.core.frame.DataFrame'>\n",
      "RangeIndex: 62423 entries, 0 to 62422\n",
      "Data columns (total 3 columns):\n",
      " #   Column   Non-Null Count  Dtype \n",
      "---  ------   --------------  ----- \n",
      " 0   movieId  62423 non-null  int64 \n",
      " 1   title    62423 non-null  object\n",
      " 2   genres   62423 non-null  object\n",
      "dtypes: int64(1), object(2)\n",
      "memory usage: 1.4+ MB\n"
     ]
    }
   ],
   "source": [
    "movies = pd.read_csv(r'C:\\Users\\imane\\OneDrive\\Desktop\\movie-recommendation\\moiveLens\\movies.csv', sep =\",\")\n",
    "movies.info()"
   ]
  },
  {
   "cell_type": "code",
   "execution_count": 55,
   "id": "d0263137",
   "metadata": {},
   "outputs": [
    {
     "data": {
      "text/html": [
       "<div>\n",
       "<style scoped>\n",
       "    .dataframe tbody tr th:only-of-type {\n",
       "        vertical-align: middle;\n",
       "    }\n",
       "\n",
       "    .dataframe tbody tr th {\n",
       "        vertical-align: top;\n",
       "    }\n",
       "\n",
       "    .dataframe thead th {\n",
       "        text-align: right;\n",
       "    }\n",
       "</style>\n",
       "<table border=\"1\" class=\"dataframe\">\n",
       "  <thead>\n",
       "    <tr style=\"text-align: right;\">\n",
       "      <th></th>\n",
       "      <th>movieId</th>\n",
       "      <th>title</th>\n",
       "      <th>genres</th>\n",
       "    </tr>\n",
       "  </thead>\n",
       "  <tbody>\n",
       "    <tr>\n",
       "      <th>0</th>\n",
       "      <td>1</td>\n",
       "      <td>Toy Story (1995)</td>\n",
       "      <td>Adventure|Animation|Children|Comedy|Fantasy</td>\n",
       "    </tr>\n",
       "    <tr>\n",
       "      <th>1</th>\n",
       "      <td>2</td>\n",
       "      <td>Jumanji (1995)</td>\n",
       "      <td>Adventure|Children|Fantasy</td>\n",
       "    </tr>\n",
       "    <tr>\n",
       "      <th>2</th>\n",
       "      <td>3</td>\n",
       "      <td>Grumpier Old Men (1995)</td>\n",
       "      <td>Comedy|Romance</td>\n",
       "    </tr>\n",
       "    <tr>\n",
       "      <th>3</th>\n",
       "      <td>4</td>\n",
       "      <td>Waiting to Exhale (1995)</td>\n",
       "      <td>Comedy|Drama|Romance</td>\n",
       "    </tr>\n",
       "    <tr>\n",
       "      <th>4</th>\n",
       "      <td>5</td>\n",
       "      <td>Father of the Bride Part II (1995)</td>\n",
       "      <td>Comedy</td>\n",
       "    </tr>\n",
       "  </tbody>\n",
       "</table>\n",
       "</div>"
      ],
      "text/plain": [
       "   movieId                               title  \\\n",
       "0        1                    Toy Story (1995)   \n",
       "1        2                      Jumanji (1995)   \n",
       "2        3             Grumpier Old Men (1995)   \n",
       "3        4            Waiting to Exhale (1995)   \n",
       "4        5  Father of the Bride Part II (1995)   \n",
       "\n",
       "                                        genres  \n",
       "0  Adventure|Animation|Children|Comedy|Fantasy  \n",
       "1                   Adventure|Children|Fantasy  \n",
       "2                               Comedy|Romance  \n",
       "3                         Comedy|Drama|Romance  \n",
       "4                                       Comedy  "
      ]
     },
     "execution_count": 55,
     "metadata": {},
     "output_type": "execute_result"
    }
   ],
   "source": [
    "movies.head()"
   ]
  },
  {
   "cell_type": "code",
   "execution_count": 56,
   "id": "b83d482e",
   "metadata": {},
   "outputs": [
    {
     "data": {
      "text/plain": [
       "movieId    0\n",
       "title      0\n",
       "genres     0\n",
       "dtype: int64"
      ]
     },
     "execution_count": 56,
     "metadata": {},
     "output_type": "execute_result"
    }
   ],
   "source": [
    "movies.isnull().sum()"
   ]
  },
  {
   "cell_type": "code",
   "execution_count": 57,
   "id": "44203aa4",
   "metadata": {},
   "outputs": [],
   "source": [
    "# Removing the time stamp\n",
    "ratings = ratings.drop([\"timestamp\"], axis = 1)"
   ]
  },
  {
   "cell_type": "code",
   "execution_count": 58,
   "id": "c41a5ea0",
   "metadata": {},
   "outputs": [
    {
     "data": {
      "text/html": [
       "<div>\n",
       "<style scoped>\n",
       "    .dataframe tbody tr th:only-of-type {\n",
       "        vertical-align: middle;\n",
       "    }\n",
       "\n",
       "    .dataframe tbody tr th {\n",
       "        vertical-align: top;\n",
       "    }\n",
       "\n",
       "    .dataframe thead th {\n",
       "        text-align: right;\n",
       "    }\n",
       "</style>\n",
       "<table border=\"1\" class=\"dataframe\">\n",
       "  <thead>\n",
       "    <tr style=\"text-align: right;\">\n",
       "      <th></th>\n",
       "      <th>movieId</th>\n",
       "      <th>title</th>\n",
       "      <th>genres</th>\n",
       "      <th>userId</th>\n",
       "      <th>rating</th>\n",
       "    </tr>\n",
       "  </thead>\n",
       "  <tbody>\n",
       "    <tr>\n",
       "      <th>0</th>\n",
       "      <td>1</td>\n",
       "      <td>Toy Story (1995)</td>\n",
       "      <td>Adventure|Animation|Children|Comedy|Fantasy</td>\n",
       "      <td>2</td>\n",
       "      <td>3.5</td>\n",
       "    </tr>\n",
       "    <tr>\n",
       "      <th>1</th>\n",
       "      <td>1</td>\n",
       "      <td>Toy Story (1995)</td>\n",
       "      <td>Adventure|Animation|Children|Comedy|Fantasy</td>\n",
       "      <td>3</td>\n",
       "      <td>4.0</td>\n",
       "    </tr>\n",
       "    <tr>\n",
       "      <th>2</th>\n",
       "      <td>1</td>\n",
       "      <td>Toy Story (1995)</td>\n",
       "      <td>Adventure|Animation|Children|Comedy|Fantasy</td>\n",
       "      <td>4</td>\n",
       "      <td>3.0</td>\n",
       "    </tr>\n",
       "    <tr>\n",
       "      <th>3</th>\n",
       "      <td>1</td>\n",
       "      <td>Toy Story (1995)</td>\n",
       "      <td>Adventure|Animation|Children|Comedy|Fantasy</td>\n",
       "      <td>5</td>\n",
       "      <td>4.0</td>\n",
       "    </tr>\n",
       "    <tr>\n",
       "      <th>4</th>\n",
       "      <td>1</td>\n",
       "      <td>Toy Story (1995)</td>\n",
       "      <td>Adventure|Animation|Children|Comedy|Fantasy</td>\n",
       "      <td>8</td>\n",
       "      <td>4.0</td>\n",
       "    </tr>\n",
       "  </tbody>\n",
       "</table>\n",
       "</div>"
      ],
      "text/plain": [
       "   movieId             title                                       genres  \\\n",
       "0        1  Toy Story (1995)  Adventure|Animation|Children|Comedy|Fantasy   \n",
       "1        1  Toy Story (1995)  Adventure|Animation|Children|Comedy|Fantasy   \n",
       "2        1  Toy Story (1995)  Adventure|Animation|Children|Comedy|Fantasy   \n",
       "3        1  Toy Story (1995)  Adventure|Animation|Children|Comedy|Fantasy   \n",
       "4        1  Toy Story (1995)  Adventure|Animation|Children|Comedy|Fantasy   \n",
       "\n",
       "   userId  rating  \n",
       "0       2     3.5  \n",
       "1       3     4.0  \n",
       "2       4     3.0  \n",
       "3       5     4.0  \n",
       "4       8     4.0  "
      ]
     },
     "execution_count": 58,
     "metadata": {},
     "output_type": "execute_result"
    }
   ],
   "source": [
    "# Merge the datasets on movie id\n",
    "movie_ratings = movies.merge(ratings, on =\"movieId\")\n",
    "movie_ratings.head()"
   ]
  },
  {
   "cell_type": "code",
   "execution_count": 59,
   "id": "3de153c1",
   "metadata": {},
   "outputs": [
    {
     "data": {
      "text/html": [
       "<div>\n",
       "<style scoped>\n",
       "    .dataframe tbody tr th:only-of-type {\n",
       "        vertical-align: middle;\n",
       "    }\n",
       "\n",
       "    .dataframe tbody tr th {\n",
       "        vertical-align: top;\n",
       "    }\n",
       "\n",
       "    .dataframe thead th {\n",
       "        text-align: right;\n",
       "    }\n",
       "</style>\n",
       "<table border=\"1\" class=\"dataframe\">\n",
       "  <thead>\n",
       "    <tr style=\"text-align: right;\">\n",
       "      <th></th>\n",
       "      <th>title</th>\n",
       "      <th>average rating</th>\n",
       "    </tr>\n",
       "  </thead>\n",
       "  <tbody>\n",
       "    <tr>\n",
       "      <th>0</th>\n",
       "      <td>\"BLOW THE NIGHT!\" Let's Spend the Night Togeth...</td>\n",
       "      <td>3.000000</td>\n",
       "    </tr>\n",
       "    <tr>\n",
       "      <th>1</th>\n",
       "      <td>\"Great Performances\" Cats (1998)</td>\n",
       "      <td>2.896648</td>\n",
       "    </tr>\n",
       "    <tr>\n",
       "      <th>2</th>\n",
       "      <td>#1 Cheerleader Camp (2010)</td>\n",
       "      <td>2.111111</td>\n",
       "    </tr>\n",
       "    <tr>\n",
       "      <th>3</th>\n",
       "      <td>#Captured (2017)</td>\n",
       "      <td>3.750000</td>\n",
       "    </tr>\n",
       "    <tr>\n",
       "      <th>4</th>\n",
       "      <td>#Female Pleasure (2018)</td>\n",
       "      <td>3.666667</td>\n",
       "    </tr>\n",
       "  </tbody>\n",
       "</table>\n",
       "</div>"
      ],
      "text/plain": [
       "                                               title  average rating\n",
       "0  \"BLOW THE NIGHT!\" Let's Spend the Night Togeth...        3.000000\n",
       "1                   \"Great Performances\" Cats (1998)        2.896648\n",
       "2                         #1 Cheerleader Camp (2010)        2.111111\n",
       "3                                   #Captured (2017)        3.750000\n",
       "4                            #Female Pleasure (2018)        3.666667"
      ]
     },
     "execution_count": 59,
     "metadata": {},
     "output_type": "execute_result"
    }
   ],
   "source": [
    "# Adding columns : average rating and number of ratings per movie\n",
    "movie_av_ratings = movie_ratings.groupby(\"title\")[\"rating\"].mean().reset_index()\n",
    "movie_av_ratings = movie_av_ratings.rename(columns={\"rating\":\"average rating\"})\n",
    "movie_av_ratings.head()"
   ]
  },
  {
   "cell_type": "code",
   "execution_count": 60,
   "id": "43a9e9f2",
   "metadata": {},
   "outputs": [
    {
     "data": {
      "text/html": [
       "<div>\n",
       "<style scoped>\n",
       "    .dataframe tbody tr th:only-of-type {\n",
       "        vertical-align: middle;\n",
       "    }\n",
       "\n",
       "    .dataframe tbody tr th {\n",
       "        vertical-align: top;\n",
       "    }\n",
       "\n",
       "    .dataframe thead th {\n",
       "        text-align: right;\n",
       "    }\n",
       "</style>\n",
       "<table border=\"1\" class=\"dataframe\">\n",
       "  <thead>\n",
       "    <tr style=\"text-align: right;\">\n",
       "      <th></th>\n",
       "      <th>title</th>\n",
       "      <th>rating count</th>\n",
       "    </tr>\n",
       "  </thead>\n",
       "  <tbody>\n",
       "    <tr>\n",
       "      <th>0</th>\n",
       "      <td>\"BLOW THE NIGHT!\" Let's Spend the Night Togeth...</td>\n",
       "      <td>1</td>\n",
       "    </tr>\n",
       "    <tr>\n",
       "      <th>1</th>\n",
       "      <td>\"Great Performances\" Cats (1998)</td>\n",
       "      <td>179</td>\n",
       "    </tr>\n",
       "    <tr>\n",
       "      <th>2</th>\n",
       "      <td>#1 Cheerleader Camp (2010)</td>\n",
       "      <td>9</td>\n",
       "    </tr>\n",
       "    <tr>\n",
       "      <th>3</th>\n",
       "      <td>#Captured (2017)</td>\n",
       "      <td>2</td>\n",
       "    </tr>\n",
       "    <tr>\n",
       "      <th>4</th>\n",
       "      <td>#Female Pleasure (2018)</td>\n",
       "      <td>3</td>\n",
       "    </tr>\n",
       "  </tbody>\n",
       "</table>\n",
       "</div>"
      ],
      "text/plain": [
       "                                               title  rating count\n",
       "0  \"BLOW THE NIGHT!\" Let's Spend the Night Togeth...             1\n",
       "1                   \"Great Performances\" Cats (1998)           179\n",
       "2                         #1 Cheerleader Camp (2010)             9\n",
       "3                                   #Captured (2017)             2\n",
       "4                            #Female Pleasure (2018)             3"
      ]
     },
     "execution_count": 60,
     "metadata": {},
     "output_type": "execute_result"
    }
   ],
   "source": [
    "movie_count_ratings = movie_ratings.groupby(\"title\")[\"rating\"].count().reset_index()\n",
    "movie_count_ratings = movie_count_ratings.rename(columns={\"rating\": \"rating count\"})\n",
    "movie_count_ratings.head()"
   ]
  },
  {
   "cell_type": "code",
   "execution_count": 61,
   "id": "1a93ba6c",
   "metadata": {},
   "outputs": [
    {
     "data": {
      "text/html": [
       "<div>\n",
       "<style scoped>\n",
       "    .dataframe tbody tr th:only-of-type {\n",
       "        vertical-align: middle;\n",
       "    }\n",
       "\n",
       "    .dataframe tbody tr th {\n",
       "        vertical-align: top;\n",
       "    }\n",
       "\n",
       "    .dataframe thead th {\n",
       "        text-align: right;\n",
       "    }\n",
       "</style>\n",
       "<table border=\"1\" class=\"dataframe\">\n",
       "  <thead>\n",
       "    <tr style=\"text-align: right;\">\n",
       "      <th></th>\n",
       "      <th>title</th>\n",
       "      <th>rating count</th>\n",
       "      <th>average rating</th>\n",
       "    </tr>\n",
       "  </thead>\n",
       "  <tbody>\n",
       "    <tr>\n",
       "      <th>0</th>\n",
       "      <td>\"BLOW THE NIGHT!\" Let's Spend the Night Togeth...</td>\n",
       "      <td>1</td>\n",
       "      <td>3.000000</td>\n",
       "    </tr>\n",
       "    <tr>\n",
       "      <th>1</th>\n",
       "      <td>\"Great Performances\" Cats (1998)</td>\n",
       "      <td>179</td>\n",
       "      <td>2.896648</td>\n",
       "    </tr>\n",
       "    <tr>\n",
       "      <th>2</th>\n",
       "      <td>#1 Cheerleader Camp (2010)</td>\n",
       "      <td>9</td>\n",
       "      <td>2.111111</td>\n",
       "    </tr>\n",
       "    <tr>\n",
       "      <th>3</th>\n",
       "      <td>#Captured (2017)</td>\n",
       "      <td>2</td>\n",
       "      <td>3.750000</td>\n",
       "    </tr>\n",
       "    <tr>\n",
       "      <th>4</th>\n",
       "      <td>#Female Pleasure (2018)</td>\n",
       "      <td>3</td>\n",
       "      <td>3.666667</td>\n",
       "    </tr>\n",
       "  </tbody>\n",
       "</table>\n",
       "</div>"
      ],
      "text/plain": [
       "                                               title  rating count  \\\n",
       "0  \"BLOW THE NIGHT!\" Let's Spend the Night Togeth...             1   \n",
       "1                   \"Great Performances\" Cats (1998)           179   \n",
       "2                         #1 Cheerleader Camp (2010)             9   \n",
       "3                                   #Captured (2017)             2   \n",
       "4                            #Female Pleasure (2018)             3   \n",
       "\n",
       "   average rating  \n",
       "0        3.000000  \n",
       "1        2.896648  \n",
       "2        2.111111  \n",
       "3        3.750000  \n",
       "4        3.666667  "
      ]
     },
     "execution_count": 61,
     "metadata": {},
     "output_type": "execute_result"
    }
   ],
   "source": [
    "# Merging the two sets\n",
    "dataset = movie_count_ratings.merge(movie_av_ratings, on = \"title\")\n",
    "dataset.head()"
   ]
  },
  {
   "cell_type": "markdown",
   "id": "75b41055",
   "metadata": {},
   "source": [
    "### Some DataViz and pre-processing"
   ]
  },
  {
   "cell_type": "code",
   "execution_count": 62,
   "id": "a86f346e",
   "metadata": {},
   "outputs": [
    {
     "data": {
      "text/plain": [
       "(array([5.8204e+04, 4.7500e+02, 1.4100e+02, 6.5000e+01, 3.3000e+01,\n",
       "        1.5000e+01, 1.2000e+01, 7.0000e+00, 2.0000e+00, 4.0000e+00]),\n",
       " array([1.0000e+00, 8.1500e+03, 1.6299e+04, 2.4448e+04, 3.2597e+04,\n",
       "        4.0746e+04, 4.8895e+04, 5.7044e+04, 6.5193e+04, 7.3342e+04,\n",
       "        8.1491e+04]),\n",
       " <BarContainer object of 10 artists>)"
      ]
     },
     "execution_count": 62,
     "metadata": {},
     "output_type": "execute_result"
    },
    {
     "data": {
      "image/png": "[encoded data removed]",
      "text/plain": [
       "<Figure size 432x288 with 1 Axes>"
      ]
     },
     "metadata": {
      "needs_background": "light"
     },
     "output_type": "display_data"
    }
   ],
   "source": [
    "plt.hist(dataset[\"rating count\"])"
   ]
  },
  {
   "cell_type": "code",
   "execution_count": 63,
   "id": "99052c57",
   "metadata": {},
   "outputs": [
    {
     "data": {
      "text/plain": [
       "(array([  678.,   989.,  1871.,  4157.,  7805., 15580., 16879.,  8601.,\n",
       "         1471.,   927.]),\n",
       " array([0.5 , 0.95, 1.4 , 1.85, 2.3 , 2.75, 3.2 , 3.65, 4.1 , 4.55, 5.  ]),\n",
       " <BarContainer object of 10 artists>)"
      ]
     },
     "execution_count": 63,
     "metadata": {},
     "output_type": "execute_result"
    },
    {
     "data": {
      "image/png": "[encoded data removed]",
      "text/plain": [
       "<Figure size 432x288 with 1 Axes>"
      ]
     },
     "metadata": {
      "needs_background": "light"
     },
     "output_type": "display_data"
    }
   ],
   "source": [
    "plt.hist(dataset[\"average rating\"])"
   ]
  },
  {
   "cell_type": "markdown",
   "id": "bad23022",
   "metadata": {},
   "source": [
    "The hist plot suggests the existance of some outliers seen as so many movies have been rated very few times, we need to set a threshold of popularity to only take into consideration movies that have been seen and rated by many people. I decided to set the threshold at 30 meaning that if less than 30 people have rated the movie, it won't be considered by the recommender."
   ]
  },
  {
   "cell_type": "code",
   "execution_count": 64,
   "id": "f6914cd4",
   "metadata": {},
   "outputs": [
    {
     "data": {
      "text/html": [
       "<div>\n",
       "<style scoped>\n",
       "    .dataframe tbody tr th:only-of-type {\n",
       "        vertical-align: middle;\n",
       "    }\n",
       "\n",
       "    .dataframe tbody tr th {\n",
       "        vertical-align: top;\n",
       "    }\n",
       "\n",
       "    .dataframe thead th {\n",
       "        text-align: right;\n",
       "    }\n",
       "</style>\n",
       "<table border=\"1\" class=\"dataframe\">\n",
       "  <thead>\n",
       "    <tr style=\"text-align: right;\">\n",
       "      <th></th>\n",
       "      <th>rating count</th>\n",
       "      <th>average rating</th>\n",
       "    </tr>\n",
       "  </thead>\n",
       "  <tbody>\n",
       "    <tr>\n",
       "      <th>count</th>\n",
       "      <td>15912.000000</td>\n",
       "      <td>15912.000000</td>\n",
       "    </tr>\n",
       "    <tr>\n",
       "      <th>mean</th>\n",
       "      <td>1555.458333</td>\n",
       "      <td>3.256978</td>\n",
       "    </tr>\n",
       "    <tr>\n",
       "      <th>std</th>\n",
       "      <td>4586.022847</td>\n",
       "      <td>0.480636</td>\n",
       "    </tr>\n",
       "    <tr>\n",
       "      <th>min</th>\n",
       "      <td>30.000000</td>\n",
       "      <td>0.854839</td>\n",
       "    </tr>\n",
       "    <tr>\n",
       "      <th>25%</th>\n",
       "      <td>66.000000</td>\n",
       "      <td>2.972858</td>\n",
       "    </tr>\n",
       "    <tr>\n",
       "      <th>50%</th>\n",
       "      <td>201.000000</td>\n",
       "      <td>3.319956</td>\n",
       "    </tr>\n",
       "    <tr>\n",
       "      <th>75%</th>\n",
       "      <td>909.250000</td>\n",
       "      <td>3.611803</td>\n",
       "    </tr>\n",
       "    <tr>\n",
       "      <th>max</th>\n",
       "      <td>81491.000000</td>\n",
       "      <td>4.483096</td>\n",
       "    </tr>\n",
       "  </tbody>\n",
       "</table>\n",
       "</div>"
      ],
      "text/plain": [
       "       rating count  average rating\n",
       "count  15912.000000    15912.000000\n",
       "mean    1555.458333        3.256978\n",
       "std     4586.022847        0.480636\n",
       "min       30.000000        0.854839\n",
       "25%       66.000000        2.972858\n",
       "50%      201.000000        3.319956\n",
       "75%      909.250000        3.611803\n",
       "max    81491.000000        4.483096"
      ]
     },
     "execution_count": 64,
     "metadata": {},
     "output_type": "execute_result"
    }
   ],
   "source": [
    "# Setting up a popularity threshold\n",
    "popularity = 30\n",
    "dataset = dataset[dataset[\"rating count\"]>= popularity]\n",
    "dataset.describe()"
   ]
  },
  {
   "cell_type": "markdown",
   "id": "a7e25528",
   "metadata": {},
   "source": [
    "Now we see that the minimun value for rating count is 30, mean 50 and so on."
   ]
  },
  {
   "attachments": {
    "image.png": {
     "image/png": "[encoded data removed]"
    }
   },
   "cell_type": "markdown",
   "id": "184753fd",
   "metadata": {},
   "source": [
    "## Popularity filtering\n",
    "\n",
    "Popularity filtering is based on the idea that movies that have been rated highly by a lot of people are likely to please the new person. To do this, we need to use a weighted average that enable to gauge the popularity depending on how many people rated the movie; meaning that for example a movie that has been rated 4 stars by say 100 people should be recommended more than a movie that has been rated 5 stars by only 2 people.\n",
    "\n",
    "The formula for the weighed average is as follows:\n",
    "\n",
    "![image.png](attachment:image.png)\n",
    "where:\n",
    "- v is the number of votes for a movie, \n",
    "- m is the min votes required to be in the chart\n",
    "- R is the average rating of the movie \n",
    "- C is the mean vote across the entire dataset"
   ]
  },
  {
   "cell_type": "code",
   "execution_count": 65,
   "id": "02889b62",
   "metadata": {},
   "outputs": [
    {
     "data": {
      "text/plain": [
       "3.2569781620132923"
      ]
     },
     "execution_count": 65,
     "metadata": {},
     "output_type": "execute_result"
    }
   ],
   "source": [
    "# Let's calculate C which is the average rating of all movies\n",
    "C = dataset[\"average rating\"].mean()\n",
    "C"
   ]
  },
  {
   "cell_type": "code",
   "execution_count": 66,
   "id": "d8c1436f",
   "metadata": {},
   "outputs": [
    {
     "data": {
      "text/plain": [
       "909.25"
      ]
     },
     "execution_count": 66,
     "metadata": {},
     "output_type": "execute_result"
    }
   ],
   "source": [
    "# Now we need to set the value of m which is the minimum number of votes that a movie has to have to figure in the chart\n",
    "# I used the 75% percentile i.e for a movie to feature in the chart it must have more votes than at least 75% of the movies\n",
    "m = dataset[\"rating count\"].quantile(0.75)\n",
    "m"
   ]
  },
  {
   "cell_type": "code",
   "execution_count": 67,
   "id": "b7960ab1",
   "metadata": {},
   "outputs": [
    {
     "data": {
      "text/plain": [
       "(3978, 3)"
      ]
     },
     "execution_count": 67,
     "metadata": {},
     "output_type": "execute_result"
    }
   ],
   "source": [
    "# Filter out the movies that can feature in the charts\n",
    "dataset = dataset[dataset[\"rating count\"] >= m]\n",
    "dataset.shape"
   ]
  },
  {
   "cell_type": "code",
   "execution_count": 68,
   "id": "f1bd9610",
   "metadata": {},
   "outputs": [],
   "source": [
    "# The dataset now has only 3978 movies \n",
    "# Now we need to calculate the weighed scores of each of these movies and store it a new column\n",
    "def weighted_score(x, m=m, C=C):\n",
    "    v = x[\"rating count\"]\n",
    "    R = x[\"average rating\"]\n",
    "    return (v/(v+m) * R) + (m/(v+m)*C)"
   ]
  },
  {
   "cell_type": "code",
   "execution_count": 69,
   "id": "ef69b019",
   "metadata": {},
   "outputs": [
    {
     "data": {
      "text/html": [
       "<div>\n",
       "<style scoped>\n",
       "    .dataframe tbody tr th:only-of-type {\n",
       "        vertical-align: middle;\n",
       "    }\n",
       "\n",
       "    .dataframe tbody tr th {\n",
       "        vertical-align: top;\n",
       "    }\n",
       "\n",
       "    .dataframe thead th {\n",
       "        text-align: right;\n",
       "    }\n",
       "</style>\n",
       "<table border=\"1\" class=\"dataframe\">\n",
       "  <thead>\n",
       "    <tr style=\"text-align: right;\">\n",
       "      <th></th>\n",
       "      <th>title</th>\n",
       "      <th>rating count</th>\n",
       "      <th>average rating</th>\n",
       "      <th>weighted score</th>\n",
       "    </tr>\n",
       "  </thead>\n",
       "  <tbody>\n",
       "    <tr>\n",
       "      <th>41782</th>\n",
       "      <td>Shawshank Redemption, The (1994)</td>\n",
       "      <td>81482</td>\n",
       "      <td>4.413576</td>\n",
       "      <td>4.400812</td>\n",
       "    </tr>\n",
       "    <tr>\n",
       "      <th>19301</th>\n",
       "      <td>Godfather, The (1972)</td>\n",
       "      <td>52498</td>\n",
       "      <td>4.324336</td>\n",
       "      <td>4.306165</td>\n",
       "    </tr>\n",
       "    <tr>\n",
       "      <th>55289</th>\n",
       "      <td>Usual Suspects, The (1995)</td>\n",
       "      <td>55366</td>\n",
       "      <td>4.284353</td>\n",
       "      <td>4.267754</td>\n",
       "    </tr>\n",
       "    <tr>\n",
       "      <th>19302</th>\n",
       "      <td>Godfather: Part II, The (1974)</td>\n",
       "      <td>34188</td>\n",
       "      <td>4.261759</td>\n",
       "      <td>4.235728</td>\n",
       "    </tr>\n",
       "    <tr>\n",
       "      <th>40816</th>\n",
       "      <td>Schindler's List (1993)</td>\n",
       "      <td>60411</td>\n",
       "      <td>4.247579</td>\n",
       "      <td>4.232891</td>\n",
       "    </tr>\n",
       "    <tr>\n",
       "      <th>16751</th>\n",
       "      <td>Fight Club (1999)</td>\n",
       "      <td>58773</td>\n",
       "      <td>4.228311</td>\n",
       "      <td>4.213513</td>\n",
       "    </tr>\n",
       "    <tr>\n",
       "      <th>38620</th>\n",
       "      <td>Rear Window (1954)</td>\n",
       "      <td>20162</td>\n",
       "      <td>4.237948</td>\n",
       "      <td>4.195618</td>\n",
       "    </tr>\n",
       "    <tr>\n",
       "      <th>34839</th>\n",
       "      <td>One Flew Over the Cuckoo's Nest (1975)</td>\n",
       "      <td>36058</td>\n",
       "      <td>4.218662</td>\n",
       "      <td>4.195008</td>\n",
       "    </tr>\n",
       "    <tr>\n",
       "      <th>182</th>\n",
       "      <td>12 Angry Men (1957)</td>\n",
       "      <td>16569</td>\n",
       "      <td>4.243014</td>\n",
       "      <td>4.191719</td>\n",
       "    </tr>\n",
       "    <tr>\n",
       "      <th>41448</th>\n",
       "      <td>Seven Samurai (Shichinin no samurai) (1954)</td>\n",
       "      <td>13367</td>\n",
       "      <td>4.254769</td>\n",
       "      <td>4.191220</td>\n",
       "    </tr>\n",
       "  </tbody>\n",
       "</table>\n",
       "</div>"
      ],
      "text/plain": [
       "                                             title  rating count  \\\n",
       "41782             Shawshank Redemption, The (1994)         81482   \n",
       "19301                        Godfather, The (1972)         52498   \n",
       "55289                   Usual Suspects, The (1995)         55366   \n",
       "19302               Godfather: Part II, The (1974)         34188   \n",
       "40816                      Schindler's List (1993)         60411   \n",
       "16751                            Fight Club (1999)         58773   \n",
       "38620                           Rear Window (1954)         20162   \n",
       "34839       One Flew Over the Cuckoo's Nest (1975)         36058   \n",
       "182                            12 Angry Men (1957)         16569   \n",
       "41448  Seven Samurai (Shichinin no samurai) (1954)         13367   \n",
       "\n",
       "       average rating  weighted score  \n",
       "41782        4.413576        4.400812  \n",
       "19301        4.324336        4.306165  \n",
       "55289        4.284353        4.267754  \n",
       "19302        4.261759        4.235728  \n",
       "40816        4.247579        4.232891  \n",
       "16751        4.228311        4.213513  \n",
       "38620        4.237948        4.195618  \n",
       "34839        4.218662        4.195008  \n",
       "182          4.243014        4.191719  \n",
       "41448        4.254769        4.191220  "
      ]
     },
     "execution_count": 69,
     "metadata": {},
     "output_type": "execute_result"
    }
   ],
   "source": [
    "dataset[\"weighted score\"] = dataset.apply( weighted_score, axis =1)\n",
    "dataset = dataset.sort_values(\"weighted score\", ascending = False)\n",
    "dataset.head(10)"
   ]
  },
  {
   "cell_type": "markdown",
   "id": "47eda953",
   "metadata": {},
   "source": [
    "Here we have the top 10 recommended movies. This recommendation is general and does not take into consideration the watching history of the user nor their personal preferences. "
   ]
  },
  {
   "cell_type": "code",
   "execution_count": 70,
   "id": "61512bec",
   "metadata": {},
   "outputs": [
    {
     "data": {
      "text/plain": [
       "[Text(0.5, 1.0, 'Top 10 recommended movies')]"
      ]
     },
     "execution_count": 70,
     "metadata": {},
     "output_type": "execute_result"
    },
    {
     "data": {
      "image/png": "[encoded data removed]",
      "text/plain": [
       "<Figure size 432x288 with 1 Axes>"
      ]
     },
     "metadata": {
      "needs_background": "light"
     },
     "output_type": "display_data"
    }
   ],
   "source": [
    "# Visualize the results\n",
    "ds = dataset.head(10)\n",
    "sns.barplot(x = \"weighted score\", y = \"title\", data = ds).set(title = \"Top 10 recommended movies\")"
   ]
  },
  {
   "cell_type": "markdown",
   "id": "c70c478c",
   "metadata": {},
   "source": [
    "## Content based filtering\n",
    "\n",
    "suggest similar items based on a particular item. This system uses item metadata, such as genre, director, description, actors, etc. for movies, to make recommendations. The general idea behind these recommender systems is that if a person liked a particular item, he or she will also like an item that is similar to it.\n",
    "\n",
    "For this project I'll be using both the genre of the movie and its tag"
   ]
  },
  {
   "cell_type": "code",
   "execution_count": 71,
   "id": "9caf5a90",
   "metadata": {},
   "outputs": [
    {
     "data": {
      "text/html": [
       "<div>\n",
       "<style scoped>\n",
       "    .dataframe tbody tr th:only-of-type {\n",
       "        vertical-align: middle;\n",
       "    }\n",
       "\n",
       "    .dataframe tbody tr th {\n",
       "        vertical-align: top;\n",
       "    }\n",
       "\n",
       "    .dataframe thead th {\n",
       "        text-align: right;\n",
       "    }\n",
       "</style>\n",
       "<table border=\"1\" class=\"dataframe\">\n",
       "  <thead>\n",
       "    <tr style=\"text-align: right;\">\n",
       "      <th></th>\n",
       "      <th>userId</th>\n",
       "      <th>movieId</th>\n",
       "      <th>tag</th>\n",
       "      <th>timestamp</th>\n",
       "    </tr>\n",
       "  </thead>\n",
       "  <tbody>\n",
       "    <tr>\n",
       "      <th>0</th>\n",
       "      <td>3</td>\n",
       "      <td>260</td>\n",
       "      <td>classic</td>\n",
       "      <td>1439472355</td>\n",
       "    </tr>\n",
       "    <tr>\n",
       "      <th>1</th>\n",
       "      <td>3</td>\n",
       "      <td>260</td>\n",
       "      <td>sci-fi</td>\n",
       "      <td>1439472256</td>\n",
       "    </tr>\n",
       "    <tr>\n",
       "      <th>2</th>\n",
       "      <td>4</td>\n",
       "      <td>1732</td>\n",
       "      <td>dark comedy</td>\n",
       "      <td>1573943598</td>\n",
       "    </tr>\n",
       "    <tr>\n",
       "      <th>3</th>\n",
       "      <td>4</td>\n",
       "      <td>1732</td>\n",
       "      <td>great dialogue</td>\n",
       "      <td>1573943604</td>\n",
       "    </tr>\n",
       "    <tr>\n",
       "      <th>4</th>\n",
       "      <td>4</td>\n",
       "      <td>7569</td>\n",
       "      <td>so bad it's good</td>\n",
       "      <td>1573943455</td>\n",
       "    </tr>\n",
       "  </tbody>\n",
       "</table>\n",
       "</div>"
      ],
      "text/plain": [
       "   userId  movieId               tag   timestamp\n",
       "0       3      260           classic  1439472355\n",
       "1       3      260            sci-fi  1439472256\n",
       "2       4     1732       dark comedy  1573943598\n",
       "3       4     1732    great dialogue  1573943604\n",
       "4       4     7569  so bad it's good  1573943455"
      ]
     },
     "execution_count": 71,
     "metadata": {},
     "output_type": "execute_result"
    }
   ],
   "source": [
    "# Import the tags dataset\n",
    "tags = pd.read_csv(r'C:\\Users\\imane\\OneDrive\\Desktop\\movie-recommendation\\moiveLens\\tags.csv', sep =\",\")\n",
    "tags.head()"
   ]
  },
  {
   "cell_type": "code",
   "execution_count": 72,
   "id": "12c8f1b4",
   "metadata": {},
   "outputs": [
    {
     "data": {
      "text/html": [
       "<div>\n",
       "<style scoped>\n",
       "    .dataframe tbody tr th:only-of-type {\n",
       "        vertical-align: middle;\n",
       "    }\n",
       "\n",
       "    .dataframe tbody tr th {\n",
       "        vertical-align: top;\n",
       "    }\n",
       "\n",
       "    .dataframe thead th {\n",
       "        text-align: right;\n",
       "    }\n",
       "</style>\n",
       "<table border=\"1\" class=\"dataframe\">\n",
       "  <thead>\n",
       "    <tr style=\"text-align: right;\">\n",
       "      <th></th>\n",
       "      <th>userId</th>\n",
       "      <th>movieId</th>\n",
       "      <th>tag</th>\n",
       "      <th>title</th>\n",
       "      <th>genres</th>\n",
       "    </tr>\n",
       "  </thead>\n",
       "  <tbody>\n",
       "    <tr>\n",
       "      <th>0</th>\n",
       "      <td>3</td>\n",
       "      <td>260</td>\n",
       "      <td>classic</td>\n",
       "      <td>Star Wars: Episode IV - A New Hope (1977)</td>\n",
       "      <td>Action|Adventure|Sci-Fi</td>\n",
       "    </tr>\n",
       "    <tr>\n",
       "      <th>1</th>\n",
       "      <td>3</td>\n",
       "      <td>260</td>\n",
       "      <td>sci-fi</td>\n",
       "      <td>Star Wars: Episode IV - A New Hope (1977)</td>\n",
       "      <td>Action|Adventure|Sci-Fi</td>\n",
       "    </tr>\n",
       "    <tr>\n",
       "      <th>2</th>\n",
       "      <td>110</td>\n",
       "      <td>260</td>\n",
       "      <td>action</td>\n",
       "      <td>Star Wars: Episode IV - A New Hope (1977)</td>\n",
       "      <td>Action|Adventure|Sci-Fi</td>\n",
       "    </tr>\n",
       "    <tr>\n",
       "      <th>3</th>\n",
       "      <td>110</td>\n",
       "      <td>260</td>\n",
       "      <td>adventure</td>\n",
       "      <td>Star Wars: Episode IV - A New Hope (1977)</td>\n",
       "      <td>Action|Adventure|Sci-Fi</td>\n",
       "    </tr>\n",
       "    <tr>\n",
       "      <th>4</th>\n",
       "      <td>110</td>\n",
       "      <td>260</td>\n",
       "      <td>fantasy</td>\n",
       "      <td>Star Wars: Episode IV - A New Hope (1977)</td>\n",
       "      <td>Action|Adventure|Sci-Fi</td>\n",
       "    </tr>\n",
       "  </tbody>\n",
       "</table>\n",
       "</div>"
      ],
      "text/plain": [
       "   userId  movieId        tag                                      title  \\\n",
       "0       3      260    classic  Star Wars: Episode IV - A New Hope (1977)   \n",
       "1       3      260     sci-fi  Star Wars: Episode IV - A New Hope (1977)   \n",
       "2     110      260     action  Star Wars: Episode IV - A New Hope (1977)   \n",
       "3     110      260  adventure  Star Wars: Episode IV - A New Hope (1977)   \n",
       "4     110      260    fantasy  Star Wars: Episode IV - A New Hope (1977)   \n",
       "\n",
       "                    genres  \n",
       "0  Action|Adventure|Sci-Fi  \n",
       "1  Action|Adventure|Sci-Fi  \n",
       "2  Action|Adventure|Sci-Fi  \n",
       "3  Action|Adventure|Sci-Fi  \n",
       "4  Action|Adventure|Sci-Fi  "
      ]
     },
     "execution_count": 72,
     "metadata": {},
     "output_type": "execute_result"
    }
   ],
   "source": [
    "# Merging it with the movies dataset which contains the genres\n",
    "movie_desc = tags.merge(movies, on = \"movieId\" )\n",
    "movie_desc = movie_desc.drop(\"timestamp\", axis =1)\n",
    "movie_desc.head()"
   ]
  },
  {
   "cell_type": "code",
   "execution_count": 73,
   "id": "015d8624",
   "metadata": {},
   "outputs": [
    {
     "data": {
      "text/plain": [
       "userId     0\n",
       "movieId    0\n",
       "tag        0\n",
       "title      0\n",
       "genres     0\n",
       "dtype: int64"
      ]
     },
     "execution_count": 73,
     "metadata": {},
     "output_type": "execute_result"
    }
   ],
   "source": [
    "movie_desc = movie_desc.dropna()\n",
    "movie_desc.isnull().sum()"
   ]
  },
  {
   "cell_type": "code",
   "execution_count": 74,
   "id": "d37fddfe",
   "metadata": {},
   "outputs": [
    {
     "data": {
      "text/html": [
       "<div>\n",
       "<style scoped>\n",
       "    .dataframe tbody tr th:only-of-type {\n",
       "        vertical-align: middle;\n",
       "    }\n",
       "\n",
       "    .dataframe tbody tr th {\n",
       "        vertical-align: top;\n",
       "    }\n",
       "\n",
       "    .dataframe thead th {\n",
       "        text-align: right;\n",
       "    }\n",
       "</style>\n",
       "<table border=\"1\" class=\"dataframe\">\n",
       "  <thead>\n",
       "    <tr style=\"text-align: right;\">\n",
       "      <th></th>\n",
       "      <th>userId</th>\n",
       "      <th>movieId</th>\n",
       "      <th>title</th>\n",
       "      <th>tag and genre</th>\n",
       "    </tr>\n",
       "  </thead>\n",
       "  <tbody>\n",
       "    <tr>\n",
       "      <th>0</th>\n",
       "      <td>3</td>\n",
       "      <td>260</td>\n",
       "      <td>Star Wars: Episode IV - A New Hope (1977)</td>\n",
       "      <td>classic Action|Adventure|Sci-Fi</td>\n",
       "    </tr>\n",
       "    <tr>\n",
       "      <th>1</th>\n",
       "      <td>3</td>\n",
       "      <td>260</td>\n",
       "      <td>Star Wars: Episode IV - A New Hope (1977)</td>\n",
       "      <td>sci-fi Action|Adventure|Sci-Fi</td>\n",
       "    </tr>\n",
       "    <tr>\n",
       "      <th>2</th>\n",
       "      <td>110</td>\n",
       "      <td>260</td>\n",
       "      <td>Star Wars: Episode IV - A New Hope (1977)</td>\n",
       "      <td>action Action|Adventure|Sci-Fi</td>\n",
       "    </tr>\n",
       "    <tr>\n",
       "      <th>3</th>\n",
       "      <td>110</td>\n",
       "      <td>260</td>\n",
       "      <td>Star Wars: Episode IV - A New Hope (1977)</td>\n",
       "      <td>adventure Action|Adventure|Sci-Fi</td>\n",
       "    </tr>\n",
       "    <tr>\n",
       "      <th>4</th>\n",
       "      <td>110</td>\n",
       "      <td>260</td>\n",
       "      <td>Star Wars: Episode IV - A New Hope (1977)</td>\n",
       "      <td>fantasy Action|Adventure|Sci-Fi</td>\n",
       "    </tr>\n",
       "  </tbody>\n",
       "</table>\n",
       "</div>"
      ],
      "text/plain": [
       "   userId  movieId                                      title  \\\n",
       "0       3      260  Star Wars: Episode IV - A New Hope (1977)   \n",
       "1       3      260  Star Wars: Episode IV - A New Hope (1977)   \n",
       "2     110      260  Star Wars: Episode IV - A New Hope (1977)   \n",
       "3     110      260  Star Wars: Episode IV - A New Hope (1977)   \n",
       "4     110      260  Star Wars: Episode IV - A New Hope (1977)   \n",
       "\n",
       "                       tag and genre  \n",
       "0    classic Action|Adventure|Sci-Fi  \n",
       "1     sci-fi Action|Adventure|Sci-Fi  \n",
       "2     action Action|Adventure|Sci-Fi  \n",
       "3  adventure Action|Adventure|Sci-Fi  \n",
       "4    fantasy Action|Adventure|Sci-Fi  "
      ]
     },
     "execution_count": 74,
     "metadata": {},
     "output_type": "execute_result"
    }
   ],
   "source": [
    "# Combining the genre and tag in one column\n",
    "movie_desc[\"genres\"] = movie_desc['tag'].astype(str) +\" \"+ movie_desc[\"genres\"]\n",
    "movie_desc = movie_desc.drop(\"tag\", axis = 1)\n",
    "movie_desc = movie_desc.rename(columns={\"genres\": \"tag and genre\"})\n",
    "movie_desc.head()"
   ]
  },
  {
   "cell_type": "code",
   "execution_count": 75,
   "id": "a6dabda9",
   "metadata": {},
   "outputs": [
    {
     "name": "stderr",
     "output_type": "stream",
     "text": [
      "C:\\Users\\imane\\AppData\\Local\\Temp/ipykernel_37116/1073841283.py:2: FutureWarning: The default value of regex will change from True to False in a future version. In addition, single character regular expressions will *not* be treated as literal strings when regex=True.\n",
      "  movie_desc[\"tag and genre\"]  = movie_desc[\"tag and genre\"].str.replace(\"|\",\" \")\n"
     ]
    },
    {
     "data": {
      "text/html": [
       "<div>\n",
       "<style scoped>\n",
       "    .dataframe tbody tr th:only-of-type {\n",
       "        vertical-align: middle;\n",
       "    }\n",
       "\n",
       "    .dataframe tbody tr th {\n",
       "        vertical-align: top;\n",
       "    }\n",
       "\n",
       "    .dataframe thead th {\n",
       "        text-align: right;\n",
       "    }\n",
       "</style>\n",
       "<table border=\"1\" class=\"dataframe\">\n",
       "  <thead>\n",
       "    <tr style=\"text-align: right;\">\n",
       "      <th></th>\n",
       "      <th>userId</th>\n",
       "      <th>movieId</th>\n",
       "      <th>title</th>\n",
       "      <th>tag and genre</th>\n",
       "    </tr>\n",
       "  </thead>\n",
       "  <tbody>\n",
       "    <tr>\n",
       "      <th>0</th>\n",
       "      <td>3</td>\n",
       "      <td>260</td>\n",
       "      <td>Star Wars: Episode IV - A New Hope (1977)</td>\n",
       "      <td>classic Action Adventure Sci-Fi</td>\n",
       "    </tr>\n",
       "    <tr>\n",
       "      <th>1</th>\n",
       "      <td>3</td>\n",
       "      <td>260</td>\n",
       "      <td>Star Wars: Episode IV - A New Hope (1977)</td>\n",
       "      <td>sci-fi Action Adventure Sci-Fi</td>\n",
       "    </tr>\n",
       "    <tr>\n",
       "      <th>2</th>\n",
       "      <td>110</td>\n",
       "      <td>260</td>\n",
       "      <td>Star Wars: Episode IV - A New Hope (1977)</td>\n",
       "      <td>action Action Adventure Sci-Fi</td>\n",
       "    </tr>\n",
       "    <tr>\n",
       "      <th>3</th>\n",
       "      <td>110</td>\n",
       "      <td>260</td>\n",
       "      <td>Star Wars: Episode IV - A New Hope (1977)</td>\n",
       "      <td>adventure Action Adventure Sci-Fi</td>\n",
       "    </tr>\n",
       "    <tr>\n",
       "      <th>4</th>\n",
       "      <td>110</td>\n",
       "      <td>260</td>\n",
       "      <td>Star Wars: Episode IV - A New Hope (1977)</td>\n",
       "      <td>fantasy Action Adventure Sci-Fi</td>\n",
       "    </tr>\n",
       "  </tbody>\n",
       "</table>\n",
       "</div>"
      ],
      "text/plain": [
       "   userId  movieId                                      title  \\\n",
       "0       3      260  Star Wars: Episode IV - A New Hope (1977)   \n",
       "1       3      260  Star Wars: Episode IV - A New Hope (1977)   \n",
       "2     110      260  Star Wars: Episode IV - A New Hope (1977)   \n",
       "3     110      260  Star Wars: Episode IV - A New Hope (1977)   \n",
       "4     110      260  Star Wars: Episode IV - A New Hope (1977)   \n",
       "\n",
       "                       tag and genre  \n",
       "0    classic Action Adventure Sci-Fi  \n",
       "1     sci-fi Action Adventure Sci-Fi  \n",
       "2     action Action Adventure Sci-Fi  \n",
       "3  adventure Action Adventure Sci-Fi  \n",
       "4    fantasy Action Adventure Sci-Fi  "
      ]
     },
     "execution_count": 75,
     "metadata": {},
     "output_type": "execute_result"
    }
   ],
   "source": [
    "# Removing unecessary characters\n",
    "movie_desc[\"tag and genre\"]  = movie_desc[\"tag and genre\"].str.replace(\"|\",\" \")\n",
    "movie_desc.head()"
   ]
  },
  {
   "cell_type": "code",
   "execution_count": 76,
   "id": "d9c4ed11",
   "metadata": {},
   "outputs": [
    {
     "data": {
      "text/html": [
       "<div>\n",
       "<style scoped>\n",
       "    .dataframe tbody tr th:only-of-type {\n",
       "        vertical-align: middle;\n",
       "    }\n",
       "\n",
       "    .dataframe tbody tr th {\n",
       "        vertical-align: top;\n",
       "    }\n",
       "\n",
       "    .dataframe thead th {\n",
       "        text-align: right;\n",
       "    }\n",
       "</style>\n",
       "<table border=\"1\" class=\"dataframe\">\n",
       "  <thead>\n",
       "    <tr style=\"text-align: right;\">\n",
       "      <th></th>\n",
       "      <th>userId</th>\n",
       "      <th>movieId</th>\n",
       "      <th>title</th>\n",
       "      <th>tag and genre</th>\n",
       "    </tr>\n",
       "  </thead>\n",
       "  <tbody>\n",
       "    <tr>\n",
       "      <th>0</th>\n",
       "      <td>3</td>\n",
       "      <td>260</td>\n",
       "      <td>Star Wars: Episode IV - A New Hope (1977)</td>\n",
       "      <td>classic Action Adventure Sci-Fi</td>\n",
       "    </tr>\n",
       "    <tr>\n",
       "      <th>6180</th>\n",
       "      <td>4</td>\n",
       "      <td>1732</td>\n",
       "      <td>Big Lebowski, The (1998)</td>\n",
       "      <td>dark comedy Comedy Crime</td>\n",
       "    </tr>\n",
       "    <tr>\n",
       "      <th>7483</th>\n",
       "      <td>4</td>\n",
       "      <td>7569</td>\n",
       "      <td>You Only Live Twice (1967)</td>\n",
       "      <td>so bad it's good Action Adventure Sci-Fi Thriller</td>\n",
       "    </tr>\n",
       "    <tr>\n",
       "      <th>7596</th>\n",
       "      <td>4</td>\n",
       "      <td>44665</td>\n",
       "      <td>Lucky Number Slevin (2006)</td>\n",
       "      <td>unreliable narrators Crime Drama Mystery</td>\n",
       "    </tr>\n",
       "    <tr>\n",
       "      <th>8044</th>\n",
       "      <td>4</td>\n",
       "      <td>115569</td>\n",
       "      <td>Nightcrawler (2014)</td>\n",
       "      <td>tense Crime Drama Thriller</td>\n",
       "    </tr>\n",
       "  </tbody>\n",
       "</table>\n",
       "</div>"
      ],
      "text/plain": [
       "      userId  movieId                                      title  \\\n",
       "0          3      260  Star Wars: Episode IV - A New Hope (1977)   \n",
       "6180       4     1732                   Big Lebowski, The (1998)   \n",
       "7483       4     7569                 You Only Live Twice (1967)   \n",
       "7596       4    44665                 Lucky Number Slevin (2006)   \n",
       "8044       4   115569                        Nightcrawler (2014)   \n",
       "\n",
       "                                          tag and genre  \n",
       "0                       classic Action Adventure Sci-Fi  \n",
       "6180                           dark comedy Comedy Crime  \n",
       "7483  so bad it's good Action Adventure Sci-Fi Thriller  \n",
       "7596           unreliable narrators Crime Drama Mystery  \n",
       "8044                         tense Crime Drama Thriller  "
      ]
     },
     "execution_count": 76,
     "metadata": {},
     "output_type": "execute_result"
    }
   ],
   "source": [
    "# I notice that a lot of movie titles are rated by the same user or different users several times\n",
    "# I will keep only one row per movie to make the computation easier\n",
    "movie_desc = movie_desc.drop_duplicates(\n",
    "  subset =['title'],\n",
    "  keep = 'first')\n",
    "movie_desc.head()"
   ]
  },
  {
   "cell_type": "code",
   "execution_count": 77,
   "id": "99a11d75",
   "metadata": {},
   "outputs": [],
   "source": [
    "movie_desc.to_csv(\"movie_desc.csv\", index = False)"
   ]
  },
  {
   "cell_type": "code",
   "execution_count": 78,
   "id": "823b0191",
   "metadata": {},
   "outputs": [],
   "source": [
    "ds = pd.read_csv(r'C:\\Users\\imane\\OneDrive\\Desktop\\movie-recommendation\\moiveLens\\movie_desc.csv', sep =\",\")"
   ]
  },
  {
   "cell_type": "code",
   "execution_count": 79,
   "id": "6fbdbc73",
   "metadata": {},
   "outputs": [
    {
     "name": "stdout",
     "output_type": "stream",
     "text": [
      "<class 'pandas.core.frame.DataFrame'>\n",
      "RangeIndex: 10000 entries, 0 to 9999\n",
      "Data columns (total 4 columns):\n",
      " #   Column         Non-Null Count  Dtype \n",
      "---  ------         --------------  ----- \n",
      " 0   userId         10000 non-null  int64 \n",
      " 1   movieId        10000 non-null  int64 \n",
      " 2   title          10000 non-null  object\n",
      " 3   tag and genre  10000 non-null  object\n",
      "dtypes: int64(2), object(2)\n",
      "memory usage: 312.6+ KB\n"
     ]
    }
   ],
   "source": [
    "# I only kept this many instances because the cimputer gets stuck because the size is too big\n",
    "ds = ds.iloc[:10000]\n",
    "ds.info()"
   ]
  },
  {
   "cell_type": "markdown",
   "id": "d5f71b77",
   "metadata": {},
   "source": [
    "Next move is to transform the text contained in tag and genre to a vector matrix using victorization. I'll be using TfidfVectorizer which determines the importance of a word. It does this by computing the relative frequency of the word in the document (term instances/total instances), and the Inverse Document Frequency which is the relative count of documents containing the term (log(number of documents/documents with term)), the result of TF * IDF is the importance of the word."
   ]
  },
  {
   "cell_type": "code",
   "execution_count": 80,
   "id": "b8ecf4b4",
   "metadata": {},
   "outputs": [],
   "source": [
    "# Define the vectorizer and eliminate stop words\n",
    "tfidf = TfidfVectorizer(stop_words='english')"
   ]
  },
  {
   "cell_type": "code",
   "execution_count": 81,
   "id": "0cfe0fd6",
   "metadata": {},
   "outputs": [
    {
     "data": {
      "text/plain": [
       "(10000, 3542)"
      ]
     },
     "execution_count": 81,
     "metadata": {},
     "output_type": "execute_result"
    }
   ],
   "source": [
    "# create the matrtix that makes every word in the tag and genre a column and takes as rows the movie indexes\n",
    "matrix = tfidf.fit_transform(ds[\"tag and genre\"])\n",
    "matrix.shape"
   ]
  },
  {
   "attachments": {
    "image.png": {
     "image/png": "[encoded data removed]"
    }
   },
   "cell_type": "markdown",
   "id": "7298e026",
   "metadata": {},
   "source": [
    "We get a matrix with 35768 columns denoting all the words contained in the description column. Now we need to pick a distance or similarity measure to compute the similarity between the movies. I chose cosine similarity because it helps compute if two iteùs are pointing in the same direction. The equation of cosine similarity is:\n",
    "![image.png](attachment:image.png)\n",
    "Where:\n",
    "- A and B are items (movies) we want to calculate the cosine for\n",
    "- A.B is the dot product of both\n",
    "- |A| and |B| are the absolute values of A and B"
   ]
  },
  {
   "cell_type": "code",
   "execution_count": 82,
   "id": "894724dd",
   "metadata": {},
   "outputs": [],
   "source": [
    "# Since you get normalized vectors as a product of tfidf vectorization, we can use a linear_kernel() because it is equivalent  \n",
    "# to and simpler than cosine_similarities()\n",
    "cosine = linear_kernel(matrix, matrix)"
   ]
  },
  {
   "cell_type": "code",
   "execution_count": 83,
   "id": "c654ba28",
   "metadata": {},
   "outputs": [],
   "source": [
    "# To identify a movie index on the dataset by its title\n",
    "indices = pd.Series(ds.index, index = ds[\"title\"])"
   ]
  },
  {
   "cell_type": "code",
   "execution_count": 84,
   "id": "12c41a8c",
   "metadata": {},
   "outputs": [],
   "source": [
    "# let's define the function that will return top 10 recommendations for someone who watched a perticular movie\n",
    "def get_recommendations(title, cosine = cosine):\n",
    "    # return the index of the movie chosen by the user\n",
    "    index = indices[title]\n",
    "    # return a list of the cosine score of the movie with all other movies\n",
    "    cos_scores = list(enumerate(cosine[index]))\n",
    "    # sort the list of scores\n",
    "    cos_scores = sorted(cos_scores,  key=lambda x: x[1],reverse = True)\n",
    "    # keel only the first 10 recommendations (except the first one which is the movie itself)\n",
    "    cos_scores = cos_scores[1:11]\n",
    "    # get the indices of teh movies on the list\n",
    "    movie_ind = [i[0] for i in cos_scores]\n",
    "    # return the list of movie titles\n",
    "    return ds[\"title\"].iloc[movie_ind]\n"
   ]
  },
  {
   "cell_type": "code",
   "execution_count": 85,
   "id": "5ac13ac9",
   "metadata": {},
   "outputs": [
    {
     "data": {
      "text/plain": [
       "110                    Minority Report (2002)\n",
       "1648                          Oblivion (2013)\n",
       "521                          Core, The (2003)\n",
       "3660                     Hotel Artemis (2018)\n",
       "82                    Edge of Tomorrow (2014)\n",
       "559                          Star Trek (2009)\n",
       "86      Dawn of the Planet of the Apes (2014)\n",
       "1637                    Mortal Engines (2018)\n",
       "1843                        Tykho Moon (1996)\n",
       "3302                           Realive (2016)\n",
       "Name: title, dtype: object"
      ]
     },
     "execution_count": 85,
     "metadata": {},
     "output_type": "execute_result"
    }
   ],
   "source": [
    "# Try the recommender\n",
    "get_recommendations(\"Inception (2010)\")"
   ]
  },
  {
   "cell_type": "code",
   "execution_count": 86,
   "id": "956db0a8",
   "metadata": {},
   "outputs": [
    {
     "data": {
      "text/plain": [
       "6                          Fateful Findings (2013)\n",
       "1871                             Mamma Mia! (2008)\n",
       "1965                               Commando (1985)\n",
       "3321                                 Sliver (1993)\n",
       "1040             Back to the Future Part II (1989)\n",
       "198          Jurassic World: Fallen Kingdom (2018)\n",
       "1495    Harold and Kumar Go to White Castle (2004)\n",
       "2739                          Jurassic Park (1993)\n",
       "1287                             Surrogates (2009)\n",
       "528                                Timeline (2003)\n",
       "Name: title, dtype: object"
      ]
     },
     "execution_count": 86,
     "metadata": {},
     "output_type": "execute_result"
    }
   ],
   "source": [
    "get_recommendations(\"You Only Live Twice (1967)\")"
   ]
  },
  {
   "cell_type": "markdown",
   "id": "9755f53f",
   "metadata": {},
   "source": [
    "## Collaborative filtering with SVD\n",
    "\n",
    "makes automatic predictions (filtering) about a user's interests by collecting preferences or taste information from many users. The idea behind it is that there exist talent factors that explain the interactions between the users and movies. Such latent factor can be for example how adventurous is the movie, is it suited for children or adults, does it contain a lot of drama, etc. To do this we need to transform the data to a sparse matrix that contains the users as columns, the movies as rows and the ratings as values, then with the help of Single Value Decomposition we precise a number of latent factors that we want our model to look for, and finally we calculate the Pearson correlations based on those factors to obtain the highest correlations as the movies the user is likely to enjoy."
   ]
  },
  {
   "cell_type": "code",
   "execution_count": 87,
   "id": "808cb8d1",
   "metadata": {},
   "outputs": [
    {
     "data": {
      "text/html": [
       "<div>\n",
       "<style scoped>\n",
       "    .dataframe tbody tr th:only-of-type {\n",
       "        vertical-align: middle;\n",
       "    }\n",
       "\n",
       "    .dataframe tbody tr th {\n",
       "        vertical-align: top;\n",
       "    }\n",
       "\n",
       "    .dataframe thead th {\n",
       "        text-align: right;\n",
       "    }\n",
       "</style>\n",
       "<table border=\"1\" class=\"dataframe\">\n",
       "  <thead>\n",
       "    <tr style=\"text-align: right;\">\n",
       "      <th></th>\n",
       "      <th>movieId</th>\n",
       "      <th>title</th>\n",
       "      <th>genres</th>\n",
       "      <th>userId</th>\n",
       "      <th>rating</th>\n",
       "    </tr>\n",
       "  </thead>\n",
       "  <tbody>\n",
       "    <tr>\n",
       "      <th>0</th>\n",
       "      <td>1</td>\n",
       "      <td>Toy Story (1995)</td>\n",
       "      <td>Adventure|Animation|Children|Comedy|Fantasy</td>\n",
       "      <td>2</td>\n",
       "      <td>3.5</td>\n",
       "    </tr>\n",
       "    <tr>\n",
       "      <th>1</th>\n",
       "      <td>1</td>\n",
       "      <td>Toy Story (1995)</td>\n",
       "      <td>Adventure|Animation|Children|Comedy|Fantasy</td>\n",
       "      <td>3</td>\n",
       "      <td>4.0</td>\n",
       "    </tr>\n",
       "    <tr>\n",
       "      <th>2</th>\n",
       "      <td>1</td>\n",
       "      <td>Toy Story (1995)</td>\n",
       "      <td>Adventure|Animation|Children|Comedy|Fantasy</td>\n",
       "      <td>4</td>\n",
       "      <td>3.0</td>\n",
       "    </tr>\n",
       "    <tr>\n",
       "      <th>3</th>\n",
       "      <td>1</td>\n",
       "      <td>Toy Story (1995)</td>\n",
       "      <td>Adventure|Animation|Children|Comedy|Fantasy</td>\n",
       "      <td>5</td>\n",
       "      <td>4.0</td>\n",
       "    </tr>\n",
       "    <tr>\n",
       "      <th>4</th>\n",
       "      <td>1</td>\n",
       "      <td>Toy Story (1995)</td>\n",
       "      <td>Adventure|Animation|Children|Comedy|Fantasy</td>\n",
       "      <td>8</td>\n",
       "      <td>4.0</td>\n",
       "    </tr>\n",
       "  </tbody>\n",
       "</table>\n",
       "</div>"
      ],
      "text/plain": [
       "   movieId             title                                       genres  \\\n",
       "0        1  Toy Story (1995)  Adventure|Animation|Children|Comedy|Fantasy   \n",
       "1        1  Toy Story (1995)  Adventure|Animation|Children|Comedy|Fantasy   \n",
       "2        1  Toy Story (1995)  Adventure|Animation|Children|Comedy|Fantasy   \n",
       "3        1  Toy Story (1995)  Adventure|Animation|Children|Comedy|Fantasy   \n",
       "4        1  Toy Story (1995)  Adventure|Animation|Children|Comedy|Fantasy   \n",
       "\n",
       "   userId  rating  \n",
       "0       2     3.5  \n",
       "1       3     4.0  \n",
       "2       4     3.0  \n",
       "3       5     4.0  \n",
       "4       8     4.0  "
      ]
     },
     "execution_count": 87,
     "metadata": {},
     "output_type": "execute_result"
    }
   ],
   "source": [
    "movie_ratings.head()"
   ]
  },
  {
   "cell_type": "code",
   "execution_count": 88,
   "id": "79f6623d",
   "metadata": {},
   "outputs": [],
   "source": [
    "# Drop unecessary columns\n",
    "data = movie_ratings.drop(columns = [\"genres\",\"movieId\"])"
   ]
  },
  {
   "cell_type": "code",
   "execution_count": 89,
   "id": "8e18d6b2",
   "metadata": {},
   "outputs": [
    {
     "name": "stdout",
     "output_type": "stream",
     "text": [
      "<class 'pandas.core.frame.DataFrame'>\n",
      "Int64Index: 25000095 entries, 0 to 25000094\n",
      "Data columns (total 3 columns):\n",
      " #   Column  Dtype  \n",
      "---  ------  -----  \n",
      " 0   title   object \n",
      " 1   userId  int64  \n",
      " 2   rating  float64\n",
      "dtypes: float64(1), int64(1), object(1)\n",
      "memory usage: 762.9+ MB\n"
     ]
    }
   ],
   "source": [
    "data.info()"
   ]
  },
  {
   "cell_type": "code",
   "execution_count": 90,
   "id": "8acc2511",
   "metadata": {},
   "outputs": [],
   "source": [
    "# Drop duplicates\n",
    "data = data.drop_duplicates()"
   ]
  },
  {
   "cell_type": "code",
   "execution_count": 91,
   "id": "9f362ae1",
   "metadata": {},
   "outputs": [
    {
     "name": "stdout",
     "output_type": "stream",
     "text": [
      "<class 'pandas.core.frame.DataFrame'>\n",
      "Int64Index: 24999761 entries, 0 to 25000094\n",
      "Data columns (total 3 columns):\n",
      " #   Column  Dtype  \n",
      "---  ------  -----  \n",
      " 0   title   object \n",
      " 1   userId  int64  \n",
      " 2   rating  float64\n",
      "dtypes: float64(1), int64(1), object(1)\n",
      "memory usage: 762.9+ MB\n"
     ]
    }
   ],
   "source": [
    "data.info()"
   ]
  },
  {
   "cell_type": "code",
   "execution_count": 92,
   "id": "a515b5e8",
   "metadata": {},
   "outputs": [],
   "source": [
    "# Seen as the dataset contains more than 20 million samples, I decided to only keep million to reduce training time and cost\n",
    "data = data.iloc[:1000000]"
   ]
  },
  {
   "cell_type": "code",
   "execution_count": 93,
   "id": "23617000",
   "metadata": {},
   "outputs": [],
   "source": [
    "# Creating a pivot table that contains users as columns and movies as rows\n",
    "data = data.pivot_table(index='title',columns='userId',values='rating').fillna(0)"
   ]
  },
  {
   "cell_type": "code",
   "execution_count": 94,
   "id": "792a6a9b",
   "metadata": {},
   "outputs": [
    {
     "data": {
      "text/plain": [
       "(144, 138544)"
      ]
     },
     "execution_count": 94,
     "metadata": {},
     "output_type": "execute_result"
    }
   ],
   "source": [
    "data.shape"
   ]
  },
  {
   "cell_type": "code",
   "execution_count": 95,
   "id": "18e47e02",
   "metadata": {},
   "outputs": [],
   "source": [
    "# Importing the single value decoposition function\n",
    "SVD = TruncatedSVD(n_components=8,random_state=42)"
   ]
  },
  {
   "cell_type": "code",
   "execution_count": 96,
   "id": "e0638f39",
   "metadata": {},
   "outputs": [],
   "source": [
    "X = data"
   ]
  },
  {
   "cell_type": "code",
   "execution_count": 97,
   "id": "fa912cc7",
   "metadata": {},
   "outputs": [],
   "source": [
    "matrix = SVD.fit_transform(X)"
   ]
  },
  {
   "cell_type": "code",
   "execution_count": 98,
   "id": "9e0a119b",
   "metadata": {},
   "outputs": [
    {
     "data": {
      "text/plain": [
       "(144, 8)"
      ]
     },
     "execution_count": 98,
     "metadata": {},
     "output_type": "execute_result"
    }
   ],
   "source": [
    "matrix.shape"
   ]
  },
  {
   "cell_type": "markdown",
   "id": "a053c2ff",
   "metadata": {},
   "source": [
    "We see here that the single value decomposition found 8 latent value as I specified thus reducing the dimentiality of the data from 138544 columns to only 8. Next, I'll calculate the Pearson's similarity coefficient for every pair of movies in the matrix."
   ]
  },
  {
   "cell_type": "code",
   "execution_count": 99,
   "id": "d9d0fb23",
   "metadata": {},
   "outputs": [
    {
     "data": {
      "text/plain": [
       "(144, 144)"
      ]
     },
     "execution_count": 99,
     "metadata": {},
     "output_type": "execute_result"
    }
   ],
   "source": [
    "# We get a table of shape 144*144 containing correlations between all movies\n",
    "corr=np.corrcoef(matrix)\n",
    "corr.shape"
   ]
  },
  {
   "cell_type": "code",
   "execution_count": 100,
   "id": "4e0da39f",
   "metadata": {},
   "outputs": [],
   "source": [
    "movie_titles = data.index"
   ]
  },
  {
   "cell_type": "code",
   "execution_count": 101,
   "id": "8fe275d8",
   "metadata": {},
   "outputs": [],
   "source": [
    "# Convert the index to a list of all the movies\n",
    "movie_titles = movie_titles.tolist()"
   ]
  },
  {
   "cell_type": "code",
   "execution_count": 142,
   "id": "aa54b844",
   "metadata": {},
   "outputs": [],
   "source": [
    "# Function that takes a title and returns a list of recommended movies\n",
    "def get_rec(title, corr = corr, movie_titles = movie_titles):\n",
    "    query = movie_titles.index(title)\n",
    "    correlations = corr[query]\n",
    "    correlations = np.round(correlations, 2)\n",
    "    correlations = np.sort(correlations)\n",
    "    same_movie = np.where(correlations == 1)\n",
    "    correlations = np.delete(correlations, same_movie)\n",
    "    indices = np.where(correlations > 0.9)[0]\n",
    "    rec = []\n",
    "    for i in indices:\n",
    "        rec.append(movie_titles[i])\n",
    "    print(rec)\n",
    "         "
   ]
  },
  {
   "cell_type": "code",
   "execution_count": 143,
   "id": "b42c4400",
   "metadata": {},
   "outputs": [
    {
     "name": "stdout",
     "output_type": "stream",
     "text": [
      "['Steal Big, Steal Little (1995)', 'Sudden Death (1995)', 'Target (1995)', 'Taxi Driver (1976)', 'The Journey of August King (1995)', \"Things to Do in Denver When You're Dead (1995)\", 'To Die For (1995)', 'Tom and Huck (1995)', 'Toy Story (1995)', 'Twelve Monkeys (a.k.a. 12 Monkeys) (1995)', 'Two Bits (1995)', 'Two if by Sea (1996)', 'Unforgettable (1996)', 'Up Close and Personal (1996)', 'Usual Suspects, The (1995)', 'Vampire in Brooklyn (1995)', 'Waiting to Exhale (1995)', 'When Night Is Falling (1995)', 'White Balloon, The (Badkonake sefid) (1995)', 'White Squall (1996)', 'Wings of Courage (1995)']\n"
     ]
    }
   ],
   "source": [
    "get_rec('Across the Sea of Time (1995)')"
   ]
  },
  {
   "cell_type": "code",
   "execution_count": 144,
   "id": "07407fc2",
   "metadata": {},
   "outputs": [
    {
     "name": "stdout",
     "output_type": "stream",
     "text": [
      "['Shopping (1994)', 'Silences of the Palace, The (Saimt el Qusur) (1994)', 'Sonic Outlaws (1995)', \"Star Maker, The (Uomo delle stelle, L') (1995)\", 'Steal Big, Steal Little (1995)', 'Sudden Death (1995)', 'Target (1995)', 'Taxi Driver (1976)', 'The Journey of August King (1995)', \"Things to Do in Denver When You're Dead (1995)\", 'To Die For (1995)', 'Tom and Huck (1995)', 'Toy Story (1995)', 'Twelve Monkeys (a.k.a. 12 Monkeys) (1995)', 'Two Bits (1995)', 'Two if by Sea (1996)', 'Unforgettable (1996)', 'Up Close and Personal (1996)', 'Usual Suspects, The (1995)', 'Vampire in Brooklyn (1995)', 'Waiting to Exhale (1995)', 'When Night Is Falling (1995)', 'White Balloon, The (Badkonake sefid) (1995)', 'White Squall (1996)', 'Wings of Courage (1995)']\n"
     ]
    }
   ],
   "source": [
    "get_rec('Dangerous Minds (1995)')"
   ]
  },
  {
   "cell_type": "markdown",
   "id": "e8b58f9b",
   "metadata": {},
   "source": [
    "## Conclusion\n",
    "\n",
    "In this notebook I have taken a quick look on the data provided by MovieLens, built three base line systems for recommending movies to users. The first model was Demographic or popularity based filtering, which basically suggests the movie that were rated the highest by most people. The second model is based on the description of movie, I didn't use the plots because that contains a lot of words each and would be too costly to compute, I used the genres and tags instead and calculated the cosine similarity between the movies to finally suggest the most similar ones. And the third and final approach was collaborative filtering based on Single Value Decomposition, and suggested movie that had close by latent factors.\n",
    "\n",
    "Finally I'd like to mention that these systems are base line and preliminary and that Hybrid Systems (that integrate more than one approach) prove more practical and come up with better recommendations."
   ]
  },
  {
   "cell_type": "markdown",
   "id": "3fe64e2a",
   "metadata": {},
   "source": [
    "## References\n",
    "\n",
    "https://blog.jovian.ai/creating-a-movie-recommendation-system-using-python-5ba88a7eb6df\n",
    "\n",
    "https://www.aurigait.com/blog/recommendation-system-using-matrix-factorization/\n",
    "\n",
    "https://www.kaggle.com/code/ibtesama/getting-started-with-a-movie-recommendation-system?fbclid=IwAR2_4vZ1Z0kBs2K59h9h3n1lU7ftds356vfXPlX0QoIm04NBZ0JdypHgXYM\n",
    "\n",
    "https://www.relataly.com/content-based-movie-recommender-using-python/4294/#h-implementing-a-content-based-movie-recommender-in-python"
   ]
  },
  {
   "cell_type": "code",
   "execution_count": null,
   "id": "afbd4889",
   "metadata": {},
   "outputs": [],
   "source": []
  }
 ],
 "metadata": {
  "kernelspec": {
   "display_name": "Python 3 (ipykernel)",
   "language": "python",
   "name": "python3"
  },
  "language_info": {
   "codemirror_mode": {
    "name": "ipython",
    "version": 3
   },
   "file_extension": ".py",
   "mimetype": "text/x-python",
   "name": "python",
   "nbconvert_exporter": "python",
   "pygments_lexer": "ipython3",
   "version": "3.9.6"
  }
 },
 "nbformat": 4,
 "nbformat_minor": 5
}
